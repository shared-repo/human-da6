{
 "cells": [
  {
   "cell_type": "code",
   "execution_count": null,
   "id": "b9d1f429",
   "metadata": {},
   "outputs": [
    {
     "name": "stdout",
     "output_type": "stream",
     "text": [
      "14677628 9080859 16934982 20430080 61123549\n",
      "14677628 9080859 16934982 20430080 61123549\n",
      "14677628 9080859 16934982 20430080 61123549\n",
      "[14,677,628][9,080,859][16,934,982][20,430,080][61,123,549]\n"
     ]
    }
   ],
   "source": [
    "# subway-data-2.csv 파일의 데이터를 읽어서 리스트로 구성\n",
    "# csv 모듈 사용\n",
    "# 숫자는 숫자형으로 변경 ( 4번째 ~ 끝에서 2번째)\n",
    "# 주의 : 제목 행 없음\n",
    "\n",
    "# 7~8시 승차인원합계, 하차인원합계, 8~9시 승차인원합계, 하차인원합계 계산\n",
    "\n",
    "import csv\n",
    "\n",
    "rows = []\n",
    "with open('data-files/subway-data-2.csv', 'rt', encoding=\"utf-8\") as f:\n",
    "    reader = csv.reader(f)\n",
    "\n",
    "    for row in reader:\n",
    "        for i in range(4, len(row) - 1):\n",
    "            row[i] = int(row[i].replace(',', ''))\n",
    "        \n",
    "        rows.append(row)\n",
    "\n",
    "# -----------------------------------------------------\n",
    "\n",
    "# 리스트를 사용해서 합계 계산 1\n",
    "t1, t2, t3, t4 = 0, 0, 0, 0 # t1은 7시승차인원합계 t2는 7시하차인원 합계, t3은 8시승차, t4는 8시하차\n",
    "for row in rows:\n",
    "    t1 += row[10] # ==   t1 = t1 + row[10]\n",
    "    t2 = t2 + row[11]\n",
    "    t3 = t3 + row[12]\n",
    "    t4 = t4 + row[13]\n",
    "\n",
    "print(t1, t2, t3, t4, (t1+t2+t3+t4))\n",
    "\n",
    "# 리스트를 사용해서 합계 계산 2\n",
    "t1, t2, t3, t4 = 0, 0, 0, 0\n",
    "for row_index in range(0, len(rows)):\n",
    "    t1 = t1 + rows[row_index][10]\n",
    "    t2 = t2 + rows[row_index][11]\n",
    "    t3 = t3 + rows[row_index][12]\n",
    "    t4 = t4 + rows[row_index][13]\n",
    "\n",
    "print(t1, t2, t3, t4, (t1+t2+t3+t4))\n",
    "\n",
    "# numpy array를 사용해서 합계 계산 1\n",
    "import numpy as np\n",
    "\n",
    "ar = np.array(rows) # numpy array는 같은 자료형의 데이터를 저장하기 때문에 여기서는 문자열 형식으로 저장\n",
    "t1 = sum(ar[:, 10].astype(np.int32)) # astype : 자료형 변경 명령\n",
    "t2 = sum(ar[:, 11].astype(np.int32))\n",
    "t3 = sum(ar[:, 12].astype(np.int32))\n",
    "t4 = sum(ar[:, 13].astype(np.int32))\n",
    "\n",
    "print(t1, t2, t3, t4, (t1+t2+t3+t4))\n",
    "\n",
    "# numpy array를 사용해서 합계 계산 2\n",
    "import numpy as np\n",
    "\n",
    "ar = np.array(rows) # numpy array는 같은 자료형의 데이터를 저장하기 때문에 여기서는 문자열 형식으로 저장\n",
    "# ta = ar[:, 10:14].astype(np.int32).sum() # 여기서 sum은 numpy의 sum 함수, 전체 합계\n",
    "ts = ar[:, 10:14].astype(np.int32).sum(axis=0) # axis=0은 행 방향으로 합계 계산\n",
    "\n",
    "print(f\"[{ts[0]:,}][{ts[1]:,}][{ts[2]:,}][{ts[3]:,}][{ts.sum():,}]\")"
   ]
  },
  {
   "cell_type": "code",
   "execution_count": null,
   "id": "3975a93c",
   "metadata": {},
   "outputs": [],
   "source": []
  },
  {
   "cell_type": "code",
   "execution_count": 28,
   "id": "aef176b5",
   "metadata": {},
   "outputs": [
    {
     "name": "stdout",
     "output_type": "stream",
     "text": [
      "2025년04월_계_총인구수 2025년04월_남_총인구수 2025년04월_여_총인구수\n",
      "[51,175,725][25,474,633][25,701,092]\n"
     ]
    }
   ],
   "source": [
    "# csv 모듈을 사용해서 csv 파일 읽기\n",
    "\n",
    "# 남성 총인구수, 여성 총인구수, 전체 총인구수 (모든 읍면동 행의 남성, 여성, 총인구 컬럼의 합계)\n",
    "\n",
    "import csv\n",
    "\n",
    "rows = []\n",
    "with open('data-files/population.csv', 'rt', encoding=\"euc-kr\") as f:\n",
    "    reader = csv.reader(f) # csv 모듈을 사용해서 파일 읽기 준비\n",
    "\n",
    "    titles = next(reader) # next : 현재 행을 읽고 다음 행 위치로 이동하는 명령 / 여기서는 첫 번째 행 건너뛰기\n",
    "    for row in reader: # 파일을 다 읽을 때까지 next를 반복하면서 각 행을 row에 저장\n",
    "\n",
    "        for i in range(1, len(row)): # 이 반복이 이루어지는 동안 row는 변경되지 않음\n",
    "            row[i] = int(row[i].replace(\",\", \"\")) \n",
    "            # rows2.append(row) # 여기에 append가 있으면 같은 행을 반복해서 추가하는 효과 발생\n",
    "        \n",
    "        rows.append(row)\n",
    "\n",
    "# ------------------------------------\n",
    "\n",
    "# 읍면동 수준의 행 뽑기\n",
    "rows2 = []\n",
    "for row in rows:\n",
    "    if row[0][-6] != '0':\n",
    "        rows2.append(row)\n",
    "\n",
    "print(titles[1], titles[104], titles[207])\n",
    "\n",
    "import numpy as np\n",
    "\n",
    "ar = np.array(rows2)\n",
    "totals = ar[:, [1, 104, 207]].astype('int').sum(axis=0)\n",
    "\n",
    "print(f\"[{totals[0]:,}][{totals[1]:,}][{totals[2]:,}]\")\n",
    "\n"
   ]
  }
 ],
 "metadata": {
  "kernelspec": {
   "display_name": "Python 3",
   "language": "python",
   "name": "python3"
  },
  "language_info": {
   "codemirror_mode": {
    "name": "ipython",
    "version": 3
   },
   "file_extension": ".py",
   "mimetype": "text/x-python",
   "name": "python",
   "nbconvert_exporter": "python",
   "pygments_lexer": "ipython3",
   "version": "3.11.9"
  }
 },
 "nbformat": 4,
 "nbformat_minor": 5
}
