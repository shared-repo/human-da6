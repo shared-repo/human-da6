{
 "cells": [
  {
   "cell_type": "code",
   "execution_count": null,
   "id": "b9d1f429",
   "metadata": {},
   "outputs": [
    {
     "name": "stdout",
     "output_type": "stream",
     "text": [
      "14677628 9080859 16934982 20430080 61123549\n",
      "14677628 9080859 16934982 20430080 61123549\n",
      "14677628 9080859 16934982 20430080 61123549\n",
      "[14677628  9080859 16934982 20430080] 61123549\n"
     ]
    }
   ],
   "source": [
    "# subway-data-2.csv 파일의 데이터를 읽어서 리스트로 구성\n",
    "# csv 모듈 사용\n",
    "# 숫자는 숫자형으로 변경 ( 4번째 ~ 끝에서 2번째)\n",
    "# 주의 : 제목 행 없음\n",
    "\n",
    "# 7~8시 승차인원합계, 하차인원합계, 8~9시 승차인원합계, 하차인원합계 계산\n",
    "\n",
    "import csv\n",
    "\n",
    "rows = []\n",
    "with open('data-files/subway-data-2.csv', 'rt', encoding=\"utf-8\") as f:\n",
    "    reader = csv.reader(f)\n",
    "\n",
    "    for row in reader:\n",
    "        for i in range(4, len(row) - 1):\n",
    "            row[i] = int(row[i].replace(',', ''))\n",
    "        \n",
    "        rows.append(row)\n",
    "\n",
    "# -----------------------------------------------------\n",
    "\n",
    "# 리스트를 사용해서 합계 계산 1\n",
    "t1, t2, t3, t4 = 0, 0, 0, 0 # t1은 7시승차인원합계 t2는 7시하차인원 합계, t3은 8시승차, t4는 8시하차\n",
    "for row in rows:\n",
    "    t1 = t1 + row[10]\n",
    "    t2 = t2 + row[11]\n",
    "    t3 = t3 + row[12]\n",
    "    t4 = t4 + row[13]\n",
    "\n",
    "print(t1, t2, t3, t4, (t1+t2+t3+t4))\n",
    "\n",
    "# 리스트를 사용해서 합계 계산 2\n",
    "t1, t2, t3, t4 = 0, 0, 0, 0\n",
    "for row_index in range(0, len(rows)):\n",
    "    t1 = t1 + rows[row_index][10]\n",
    "    t2 = t2 + rows[row_index][11]\n",
    "    t3 = t3 + rows[row_index][12]\n",
    "    t4 = t4 + rows[row_index][13]\n",
    "\n",
    "print(t1, t2, t3, t4, (t1+t2+t3+t4))\n",
    "\n",
    "# numpy array를 사용해서 합계 계산 1\n",
    "import numpy as np\n",
    "\n",
    "ar = np.array(rows) # numpy array는 같은 자료형의 데이터를 저장하기 때문에 여기서는 문자열 형식으로 저장\n",
    "t1 = sum(ar[:, 10].astype(np.int32)) # astype : 자료형 변경 명령\n",
    "t2 = sum(ar[:, 11].astype(np.int32))\n",
    "t3 = sum(ar[:, 12].astype(np.int32))\n",
    "t4 = sum(ar[:, 13].astype(np.int32))\n",
    "\n",
    "print(t1, t2, t3, t4, (t1+t2+t3+t4))\n",
    "\n",
    "# numpy array를 사용해서 합계 계산 2\n",
    "import numpy as np\n",
    "\n",
    "ar = np.array(rows) # numpy array는 같은 자료형의 데이터를 저장하기 때문에 여기서는 문자열 형식으로 저장\n",
    "# ta = ar[:, 10:14].astype(np.int32).sum() # 여기서 sum은 numpy의 sum 함수\n",
    "ts = ar[:, 10:14].astype(np.int32).sum(axis=0) # axis=0은 행 방향으로 합계 계산\n",
    "\n",
    "print(ts, ts.sum())"
   ]
  }
 ],
 "metadata": {
  "kernelspec": {
   "display_name": "Python 3",
   "language": "python",
   "name": "python3"
  },
  "language_info": {
   "codemirror_mode": {
    "name": "ipython",
    "version": 3
   },
   "file_extension": ".py",
   "mimetype": "text/x-python",
   "name": "python",
   "nbconvert_exporter": "python",
   "pygments_lexer": "ipython3",
   "version": "3.11.9"
  }
 },
 "nbformat": 4,
 "nbformat_minor": 5
}
