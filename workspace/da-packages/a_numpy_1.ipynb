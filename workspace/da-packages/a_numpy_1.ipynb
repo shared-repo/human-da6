{
 "cells": [
  {
   "cell_type": "code",
   "execution_count": 1,
   "id": "41f071da",
   "metadata": {},
   "outputs": [
    {
     "name": "stdout",
     "output_type": "stream",
     "text": [
      "Requirement already satisfied: numpy in c:\\users\\human\\appdata\\local\\programs\\python\\python311\\lib\\site-packages (2.2.6)\n"
     ]
    },
    {
     "name": "stderr",
     "output_type": "stream",
     "text": [
      "\n",
      "[notice] A new release of pip is available: 24.0 -> 25.1.1\n",
      "[notice] To update, run: python.exe -m pip install --upgrade pip\n"
     ]
    }
   ],
   "source": [
    "# numpy 설치\n",
    "!pip install numpy"
   ]
  },
  {
   "cell_type": "code",
   "execution_count": 2,
   "id": "de158c7d",
   "metadata": {},
   "outputs": [],
   "source": [
    "# numpy를 코드에서 사용할 수 있도록 준비\n",
    "import numpy as np"
   ]
  },
  {
   "cell_type": "code",
   "execution_count": 3,
   "id": "3fd44367",
   "metadata": {},
   "outputs": [
    {
     "data": {
      "text/plain": [
       "(dtype('int64'), dtype('float32'), dtype('float16'))"
      ]
     },
     "execution_count": 3,
     "metadata": {},
     "output_type": "execute_result"
    }
   ],
   "source": [
    "# numpy 자료형\n",
    "x1 = np.array([1, 2, 3]) # 자료형을 지정하지 않으면 데이터를 통해서 자동 선택\n",
    "x2 = np.array([1, 2, 3], dtype='f') # np.array : numpy array 만들기\n",
    "x3 = np.array([1, 2, 3], dtype=np.float16) \n",
    " \n",
    "x1.dtype, x2.dtype, x3.dtype # numpy_array.dtype : 자료형 반환"
   ]
  },
  {
   "cell_type": "code",
   "execution_count": 4,
   "id": "66be8a7f",
   "metadata": {},
   "outputs": [
    {
     "name": "stdout",
     "output_type": "stream",
     "text": [
      "<class 'list'> <class 'numpy.ndarray'> [1, 2, 3] [1 2 3]\n"
     ]
    }
   ],
   "source": [
    "# numpy array 만들기 1\n",
    "\n",
    "d = [1, 2, 3]\n",
    "a = np.array(d)\n",
    "print (type(d), type(a), d, a)\n"
   ]
  },
  {
   "cell_type": "code",
   "execution_count": 5,
   "id": "a8652a73",
   "metadata": {},
   "outputs": [
    {
     "name": "stdout",
     "output_type": "stream",
     "text": [
      "[[1, 2], [3, 4]]\n",
      "[[1 2]\n",
      " [3 4]]\n",
      "(2, 2) 2\n"
     ]
    }
   ],
   "source": [
    "# numpy array 만들기 2\n",
    "d = [[1, 2], [3, 4]]\n",
    "a = np.array(d)\n",
    "print(d)\n",
    "print(a)\n",
    "print(a.shape, a.ndim) # shape : 행, 열 등의 갯수, ndim : 차원"
   ]
  },
  {
   "cell_type": "code",
   "execution_count": 6,
   "id": "8e38195d",
   "metadata": {},
   "outputs": [
    {
     "name": "stdout",
     "output_type": "stream",
     "text": [
      "<class 'list'> <class 'int'> <class 'tuple'>\n"
     ]
    }
   ],
   "source": [
    "# 복합자료형 : list - [], tuple - (), dict - {}\n",
    "\n",
    "a = [1] # a는 list\n",
    "b1 = (1) # b1은 int : ()를 연산자 우선순위 결정 도구 해석\n",
    "b2 = (1,) # b2는 ? : ()를 튜플 생성 도구 해석\n",
    "c = (1 + 3) * 4\n",
    "print(type(a), type(b1), type(b2))"
   ]
  },
  {
   "cell_type": "code",
   "execution_count": 7,
   "id": "a9490599",
   "metadata": {},
   "outputs": [
    {
     "name": "stdout",
     "output_type": "stream",
     "text": [
      "[1 2 3 4 5] (5,) 1\n",
      "[[1 2 3 4 5]] (1, 5) 2\n"
     ]
    }
   ],
   "source": [
    "# numpy array 만들기 3\n",
    "\n",
    "d = [1, 2, 3, 4, 5]\n",
    "a1 = np.array(d)\n",
    "a2 = np.array(d, ndmin=2)\n",
    "print (a1, a1.shape, a1.ndim)\n",
    "print (a2, a2.shape, a2.ndim)\n"
   ]
  },
  {
   "cell_type": "code",
   "execution_count": 8,
   "id": "4f959955",
   "metadata": {},
   "outputs": [
    {
     "name": "stdout",
     "output_type": "stream",
     "text": [
      "[[1 2 3]\n",
      " [4 5 6]] (2, 3)\n",
      "[[1 2]\n",
      " [3 4]\n",
      " [5 6]] (3, 2)\n",
      "[[1 2]\n",
      " [3 4]\n",
      " [5 6]] (2, 3) (3, 2)\n"
     ]
    }
   ],
   "source": [
    "# numpy array 차원 정보 사용\n",
    "\n",
    "a = np.array([[1,2,3],[4,5,6]])\n",
    "print(a, a.shape) \n",
    "\n",
    "a.shape = (3, 2) # a를 변경\n",
    "print(a, a.shape)\n",
    "\n",
    "a2 = np.array([[1,2,3],[4,5,6]])\n",
    "a3 = a2.reshape(3, 2) # reshape은 a2를 변경하지 않습니다. -> reshape된 새 배열을 반환\n",
    "print (a3, a2.shape, a3.shape) "
   ]
  },
  {
   "cell_type": "code",
   "execution_count": 9,
   "id": "831b204e",
   "metadata": {},
   "outputs": [
    {
     "name": "stdout",
     "output_type": "stream",
     "text": [
      "[[1 1 1 1 1]\n",
      " [1 1 1 1 1]\n",
      " [1 1 1 1 1]]\n",
      "[[0 0 0 0 0]\n",
      " [0 0 0 0 0]\n",
      " [0 0 0 0 0]]\n",
      "[[       1816075569544                  191                    0\n",
      "                     0]\n",
      " [   18296268623183872  4189022085447885435  8101260420555416096\n",
      "   2340008625568817273]\n",
      " [-5122100670961506325  7236823280293978288  3611935491644996896\n",
      "   2318285220974108716]\n",
      " [ 4404574730101480757  7021800530740538912  3630304116747806841\n",
      "   8241919853483539744]\n",
      " [ 7935391352114209138  6640894364961303908  2891438978336190574\n",
      "   8299625456511758689]\n",
      " [ 3558160555651916136  7952276591925816878  7000881305188135536\n",
      "   7526410196178971698]\n",
      " [ 3328829865391911009  2481021777726760046  8458716092899139628\n",
      "   8462091486378289524]]\n"
     ]
    }
   ],
   "source": [
    "# numpy array 생성 함수 1\n",
    "\n",
    "x = np.ones([3,5], dtype=int) # 각 값이 1인 3행 5열 배열 만들기\n",
    "print(x)\n",
    "\n",
    "x = np.zeros([3,5], dtype=int) # 각 값이 0인 3행 5열 배열 만들기\n",
    "print(x)\n",
    "\n",
    "x = np.empty([7,4], dtype=int) # 각 값이 ?인 3행 5열 배열 만들기\n",
    "print(x)\n"
   ]
  },
  {
   "cell_type": "code",
   "execution_count": 10,
   "id": "d748ca04",
   "metadata": {},
   "outputs": [
    {
     "name": "stdout",
     "output_type": "stream",
     "text": [
      "[1 2 3]\n"
     ]
    }
   ],
   "source": [
    "# numpy array 생성 함수 2\n",
    "\n",
    "x = [1,2,3]\n",
    "a = np.asarray(x)\n",
    "print (a)\n",
    "\n",
    "\n"
   ]
  },
  {
   "cell_type": "code",
   "execution_count": 11,
   "id": "0eb83548",
   "metadata": {},
   "outputs": [
    {
     "name": "stdout",
     "output_type": "stream",
     "text": [
      "range(10, 20, 2)\n",
      "[10, 12, 14, 16, 18]\n",
      "[10 12 14 16 18]\n"
     ]
    }
   ],
   "source": [
    "# numpy array 생성 함수 3\n",
    "\n",
    "x1 = range(10, 20, 2)       # 반복자 반환 ( 값의 목록을 반환하지 않습니다 )\n",
    "x2 = np.arange(10, 20, 2)   # numpy array 형식의 값 목록을 반환\n",
    "print(x1) # 반복자이기 때문에 바로 출력할 수 없습니다. - 반복문으로 각 값을 읽어야 합니다.\n",
    "print(list(x1))\n",
    "print(x2) "
   ]
  },
  {
   "cell_type": "code",
   "execution_count": 12,
   "id": "5cc63878",
   "metadata": {},
   "outputs": [
    {
     "name": "stdout",
     "output_type": "stream",
     "text": [
      "[1.   1.25 1.5  1.75 2.  ]\n",
      "[10. 12. 14. 16. 18.]\n",
      "(array([1.  , 1.25, 1.5 , 1.75, 2.  ]), np.float64(0.25))\n"
     ]
    }
   ],
   "source": [
    "# numpy array 생성 함수 4\n",
    "\n",
    "a = np.linspace(1.0, 2.0, num=5)\n",
    "print (a)\n",
    "\n",
    "x = np.linspace(10, 20, 5, endpoint=False)\n",
    "print (x)\n",
    "\n",
    "x = np.linspace(1, 2, 5, retstep=True)\n",
    "print (x) \n"
   ]
  },
  {
   "cell_type": "code",
   "execution_count": 13,
   "id": "f922ec7d",
   "metadata": {},
   "outputs": [
    {
     "name": "stdout",
     "output_type": "stream",
     "text": [
      "[0 1 2 3 4 5 6 7 8 9]\n",
      "[2 4 6]\n",
      "[2 4 6]\n",
      "4\n"
     ]
    }
   ],
   "source": [
    "# 인덱싱과 슬라이싱 1\n",
    "\n",
    "a = np.arange(10)\n",
    "s = slice(2,7,2) # 슬라이싱 규칙 만들기 (2에서 7까지 2씩 증가)\n",
    "print(a)\n",
    "print(a[s])\n",
    "\n",
    "# a = np.arange(10) # == np.arange(0, 10)\n",
    "a = np.arange(0, 10)\n",
    "b = a[2:7:2] # [2:7:2] == slice(2, 7, 2)\n",
    "print (b)\n",
    "\n",
    "a = np.arange(10)\n",
    "print(a[4])\n"
   ]
  },
  {
   "cell_type": "code",
   "execution_count": 14,
   "id": "b5975308",
   "metadata": {},
   "outputs": [
    {
     "name": "stdout",
     "output_type": "stream",
     "text": [
      "[[1, 2, 3], [3, 4, 5], [4, 5, 6]]\n",
      "[[1 2 3]\n",
      " [3 4 5]\n",
      " [4 5 6]]\n",
      "[3, 4, 5] [3 4 5]\n",
      "[[3, 4, 5], [4, 5, 6]] [[3 4 5]\n",
      " [4 5 6]]\n",
      "5 5\n",
      "[4, 5] [4 5]\n",
      "[[4, 5, 6]]\n",
      "[[4 5]\n",
      " [5 6]]\n"
     ]
    }
   ],
   "source": [
    "# 인덱싱과 슬라이싱 2\n",
    "\n",
    "d = [[1,2,3],[3,4,5],[4,5,6]]\n",
    "a = np.array(d)\n",
    "\n",
    "print(d)\n",
    "print(a)\n",
    "\n",
    "# 1. 1차원에서는 인덱싱 사용 방법 동일\n",
    "print(d[1], a[1])\n",
    "\n",
    "# 2. 1차원에서는 슬라이싱 사용 방법 동일\n",
    "print(d[1:], a[1:])\n",
    "\n",
    "# 3. 2차원 이상에서 인덱싱 사용 방법 차이\n",
    "print(d[1][2], a[1, 2])\n",
    "\n",
    "# 4. 2차원 이상에서 슬라이싱 사용 방법 차이\n",
    "print(d[1][1:], a[1, 1:])\n",
    "\n",
    "# 5. 2차원 이상에서 슬라이싱 사용 방법 차이 2 - \n",
    "print(d[1:][1:])\n",
    "print(a[1:, 1:])\n"
   ]
  },
  {
   "cell_type": "code",
   "execution_count": 15,
   "id": "635c8633",
   "metadata": {},
   "outputs": [
    {
     "name": "stdout",
     "output_type": "stream",
     "text": [
      "[[1 2 3]\n",
      " [4 5 6]\n",
      " [7 8 9]]\n",
      "[[1 2 3]\n",
      " [4 5 6]\n",
      " [7 8 9]]\n"
     ]
    }
   ],
   "source": [
    "# 1차원 리스트를 2차원 배열로 변경 1\n",
    "d = [1, 2, 3, 4, 5, 6, 7, 8, 9]\n",
    "\n",
    "a = np.array(d)\n",
    "b = a.reshape(3, 3)\n",
    "print(b)\n",
    "\n",
    "# 1차원 리스트를 2차원 배열로 변경 2\n",
    "a2 = np.arange(1, 10).reshape(3, 3)\n",
    "print(a2)"
   ]
  },
  {
   "cell_type": "code",
   "execution_count": 16,
   "id": "f9c6c88f",
   "metadata": {},
   "outputs": [
    {
     "name": "stdout",
     "output_type": "stream",
     "text": [
      "[[1 2]\n",
      " [3 4]\n",
      " [5 6]]\n",
      "[1 4 5]\n"
     ]
    }
   ],
   "source": [
    "# 인덱싱과 슬라이싱 3\n",
    "\n",
    "x = np.array([[1, 2], [3, 4], [5, 6]])\n",
    "print(x)\n",
    "y = x[[0,1,2], [0,1,0]] # (0행, 0열), (1행, 1열), (2행, 0열)\n",
    "print (y)\n"
   ]
  },
  {
   "cell_type": "code",
   "execution_count": 17,
   "id": "81491c76",
   "metadata": {},
   "outputs": [
    {
     "name": "stdout",
     "output_type": "stream",
     "text": [
      "[[ 0  1  2]\n",
      " [ 3  4  5]\n",
      " [ 6  7  8]\n",
      " [ 9 10 11]]\n",
      "[[ 4  5]\n",
      " [ 7  8]\n",
      " [10 11]]\n",
      "[[ 4  5]\n",
      " [ 7  8]\n",
      " [10 11]]\n"
     ]
    }
   ],
   "source": [
    "# 인덱싱과 슬라이싱 4\n",
    "\n",
    "x = np.array([[ 0, 1, 2],[ 3, 4, 5],[ 6, 7, 8],[ 9, 10, 11]])\n",
    "print(x)\n",
    "z = x[1:4, 1:3]\n",
    "print (z)\n",
    "y = x[1:4, [1,2]]\n",
    "print (y)\n"
   ]
  },
  {
   "cell_type": "code",
   "execution_count": 18,
   "id": "ad2ad792",
   "metadata": {},
   "outputs": [
    {
     "name": "stdout",
     "output_type": "stream",
     "text": [
      "[[ 0  1  2]\n",
      " [ 3  4  5]\n",
      " [ 6  7  8]\n",
      " [ 9 10 11]]\n",
      "[[False False False]\n",
      " [False False False]\n",
      " [ True  True  True]\n",
      " [ True  True  True]]\n",
      "[ 6  7  8  9 10 11]\n"
     ]
    }
   ],
   "source": [
    "# 인덱싱과 슬라이싱 5\n",
    "\n",
    "x = np.array([[ 0, 1, 2],[ 3, 4, 5],[ 6, 7, 8],[ 9, 10, 11]])\n",
    "print(x)\n",
    "\n",
    "print(x > 5)\n",
    "\n",
    "print(x[x > 5]) # 각 값의 위치에 True, False를 기준으로 True인 데이터만 뽑기"
   ]
  },
  {
   "cell_type": "code",
   "execution_count": 19,
   "id": "d6767644",
   "metadata": {},
   "outputs": [
    {
     "name": "stdout",
     "output_type": "stream",
     "text": [
      "[nan  1.  2. nan  3.  4.  5.]\n",
      "[ True False False  True False False False]\n",
      "[False  True  True False  True  True  True]\n",
      "[1. 2. 3. 4. 5.]\n"
     ]
    }
   ],
   "source": [
    "# 인덱싱과 슬라이싱 6\n",
    "\n",
    "a = np.array([np.nan, 1,2,np.nan,3,4,5]) # np.nan : 결측치를 표현하는 값\n",
    "print(a)\n",
    "is_mv = np.isnan(a) # isnan : np.nan이면 True 아니면 False\n",
    "print(is_mv)\n",
    "is_not_mv = ~is_mv # ~ : 배열의 각 True 또는 False값을 반대 값으로 변환\n",
    "print(is_not_mv)\n",
    "\n",
    "print(a[is_not_mv])\n"
   ]
  },
  {
   "cell_type": "code",
   "execution_count": 20,
   "id": "dc668c26",
   "metadata": {},
   "outputs": [
    {
     "name": "stdout",
     "output_type": "stream",
     "text": [
      "[False  True  True False  True  True  True]\n",
      "[False  True  True False  True  True  True]\n",
      "[ True False False  True False False False]\n",
      "[-2 -6  3]\n"
     ]
    }
   ],
   "source": [
    "# np.isnan : np.nan이면 True 아니면 False\n",
    "\n",
    "# np.isnan의 반대 기능 함수 ?\n",
    "print( ~np.isnan([np.nan, 1,2,np.nan,3,4,5]) )\n",
    "print( np.isfinite([np.nan, 1,2,np.nan,3,4,5]) ) # np.isfinite : np.nan, np.inf 이면 False 아니면 True\n",
    "\n",
    "# ~ 연산 내용\n",
    "print(~np.array([False,  True,  True, False,  True,  True,  True])) # ~ : bool인 경우 True->False, False-True\n",
    "print(~np.array([1, 5, -4])) # ~ : 정수인 경우 -원래값 - 1"
   ]
  },
  {
   "cell_type": "code",
   "execution_count": 21,
   "id": "3303f780",
   "metadata": {},
   "outputs": [
    {
     "name": "stdout",
     "output_type": "stream",
     "text": [
      "[11 22 33 44] [1, 2, 3, 4, 10, 20, 30, 40]\n",
      "[ 10  40  90 160]\n"
     ]
    }
   ],
   "source": [
    "# 리스트와 numpy array의 연산 차이\n",
    "\n",
    "d1 = [1,2,3,4]\n",
    "d2 = [10,20,30,40]\n",
    "a = np.array(d1)\n",
    "b = np.array(d2)\n",
    "c1 = a + b      # numpy array간 + 연산 ( 요소별 연산 )\n",
    "c2 = d1 + d2    # list간 + 연산 ( 두 리스트 결합 )\n",
    "print(c1, c2)\n",
    "\n",
    "print(a * b)    # numpy array간 + 연산 ( 요소별 연산 )\n",
    "# print(d1 * d2)  # list간 * 연산 ( 오류 : 지원하지 않음 )\n"
   ]
  },
  {
   "cell_type": "code",
   "execution_count": 22,
   "id": "63af91be",
   "metadata": {},
   "outputs": [
    {
     "name": "stdout",
     "output_type": "stream",
     "text": [
      "[[ 1.  2.  3.]\n",
      " [11. 12. 13.]\n",
      " [21. 22. 23.]\n",
      " [31. 32. 33.]]\n"
     ]
    }
   ],
   "source": [
    "# 브로드캐스팅\n",
    "\n",
    "a = np.array([[0.0,0.0,0.0],[10.0,10.0,10.0],[20.0,20.0,20.0],[30.0,30.0,30.0]])\n",
    "b = np.array([1.0,2.0,3.0])\n",
    "print (a + b)\n"
   ]
  },
  {
   "cell_type": "code",
   "execution_count": 23,
   "id": "e1739030",
   "metadata": {},
   "outputs": [
    {
     "name": "stdout",
     "output_type": "stream",
     "text": [
      "[[ 0  5 10 15]\n",
      " [20 25 30 35]\n",
      " [40 45 50 55]]\n",
      "[ 0  5 10 15] [20 25 30 35] [40 45 50 55] \n",
      "0 5 10 15 20 25 30 35 40 45 50 55 \n",
      "12\n",
      "0 5 10 15 20 25 30 35 40 45 50 55 "
     ]
    }
   ],
   "source": [
    "# 다차원 배열을 1차원 처럼 사용하는 방법\n",
    "\n",
    "a = np.arange(0,60,5)\n",
    "a = a.reshape(3,4)\n",
    "print(a)\n",
    "\n",
    "for x in a:\n",
    "    print(x, end=' ')\n",
    "\n",
    "print()\n",
    "\n",
    "for x in np.nditer(a): # 2차원 배열 -> 1차원 처럼 순회\n",
    "    print(x, end=' ')\n",
    "\n",
    "print()\n",
    "print(a.size) # size: 모든 요소의 갯수\n",
    "for x in a.reshape(a.size): # 2차원 배열 -> 1차원 배열로 만들고 -> 순회\n",
    "    print(x, end=' ')\n"
   ]
  },
  {
   "cell_type": "code",
   "execution_count": 24,
   "id": "569627ad",
   "metadata": {},
   "outputs": [
    {
     "name": "stdout",
     "output_type": "stream",
     "text": [
      "['1' '2' '3' '4' '5' 'hello']\n"
     ]
    }
   ],
   "source": [
    "# 하나의 numpy array에는 같은 자료형의 데이터만 저장 가능\n",
    "a = np.array([1, 2, 3, 4, 5, 'hello'])\n",
    "\n",
    "print(a)"
   ]
  }
 ],
 "metadata": {
  "kernelspec": {
   "display_name": "Python 3",
   "language": "python",
   "name": "python3"
  },
  "language_info": {
   "codemirror_mode": {
    "name": "ipython",
    "version": 3
   },
   "file_extension": ".py",
   "mimetype": "text/x-python",
   "name": "python",
   "nbconvert_exporter": "python",
   "pygments_lexer": "ipython3",
   "version": "3.11.9"
  }
 },
 "nbformat": 4,
 "nbformat_minor": 5
}
