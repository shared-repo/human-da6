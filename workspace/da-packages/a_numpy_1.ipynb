{
 "cells": [
  {
   "cell_type": "code",
   "execution_count": 1,
   "id": "41f071da",
   "metadata": {},
   "outputs": [
    {
     "name": "stdout",
     "output_type": "stream",
     "text": [
      "Requirement already satisfied: numpy in c:\\users\\human\\appdata\\local\\programs\\python\\python311\\lib\\site-packages (2.2.6)\n"
     ]
    },
    {
     "name": "stderr",
     "output_type": "stream",
     "text": [
      "\n",
      "[notice] A new release of pip is available: 24.0 -> 25.1.1\n",
      "[notice] To update, run: python.exe -m pip install --upgrade pip\n"
     ]
    }
   ],
   "source": [
    "# numpy 설치\n",
    "!pip install numpy"
   ]
  },
  {
   "cell_type": "code",
   "execution_count": 2,
   "id": "de158c7d",
   "metadata": {},
   "outputs": [],
   "source": [
    "# numpy를 코드에서 사용할 수 있도록 준비\n",
    "import numpy as np"
   ]
  },
  {
   "cell_type": "code",
   "execution_count": 3,
   "id": "3fd44367",
   "metadata": {},
   "outputs": [
    {
     "data": {
      "text/plain": [
       "(dtype('int64'), dtype('float32'), dtype('float16'))"
      ]
     },
     "execution_count": 3,
     "metadata": {},
     "output_type": "execute_result"
    }
   ],
   "source": [
    "# numpy 자료형\n",
    "x1 = np.array([1, 2, 3]) # 자료형을 지정하지 않으면 데이터를 통해서 자동 선택\n",
    "x2 = np.array([1, 2, 3], dtype='f') # np.array : numpy array 만들기\n",
    "x3 = np.array([1, 2, 3], dtype=np.float16) \n",
    " \n",
    "x1.dtype, x2.dtype, x3.dtype # numpy_array.dtype : 자료형 반환"
   ]
  },
  {
   "cell_type": "code",
   "execution_count": 4,
   "id": "66be8a7f",
   "metadata": {},
   "outputs": [
    {
     "name": "stdout",
     "output_type": "stream",
     "text": [
      "<class 'list'> <class 'numpy.ndarray'> [1, 2, 3] [1 2 3]\n"
     ]
    }
   ],
   "source": [
    "# numpy array 만들기 1\n",
    "\n",
    "d = [1, 2, 3]\n",
    "a = np.array(d)\n",
    "print (type(d), type(a), d, a)\n"
   ]
  },
  {
   "cell_type": "code",
   "execution_count": 5,
   "id": "a8652a73",
   "metadata": {},
   "outputs": [
    {
     "name": "stdout",
     "output_type": "stream",
     "text": [
      "[[1, 2], [3, 4]]\n",
      "[[1 2]\n",
      " [3 4]]\n",
      "(2, 2) 2\n"
     ]
    }
   ],
   "source": [
    "# numpy array 만들기 2\n",
    "d = [[1, 2], [3, 4]]\n",
    "a = np.array(d)\n",
    "print(d)\n",
    "print(a)\n",
    "print(a.shape, a.ndim) # shape : 행, 열 등의 갯수, ndim : 차원"
   ]
  },
  {
   "cell_type": "code",
   "execution_count": 6,
   "id": "8e38195d",
   "metadata": {},
   "outputs": [
    {
     "name": "stdout",
     "output_type": "stream",
     "text": [
      "<class 'list'> <class 'int'> <class 'tuple'>\n"
     ]
    }
   ],
   "source": [
    "# 복합자료형 : list - [], tuple - (), dict - {}\n",
    "\n",
    "a = [1] # a는 list\n",
    "b1 = (1) # b1은 int : ()를 연산자 우선순위 결정 도구 해석\n",
    "b2 = (1,) # b2는 ? : ()를 튜플 생성 도구 해석\n",
    "c = (1 + 3) * 4\n",
    "print(type(a), type(b1), type(b2))"
   ]
  },
  {
   "cell_type": "code",
   "execution_count": 7,
   "id": "a9490599",
   "metadata": {},
   "outputs": [
    {
     "name": "stdout",
     "output_type": "stream",
     "text": [
      "[1 2 3 4 5] (5,) 1\n",
      "[[1 2 3 4 5]] (1, 5) 2\n"
     ]
    }
   ],
   "source": [
    "# numpy array 만들기 3\n",
    "\n",
    "d = [1, 2, 3, 4, 5]\n",
    "a1 = np.array(d)\n",
    "a2 = np.array(d, ndmin=2)\n",
    "print (a1, a1.shape, a1.ndim)\n",
    "print (a2, a2.shape, a2.ndim)\n"
   ]
  },
  {
   "cell_type": "code",
   "execution_count": 8,
   "id": "4f959955",
   "metadata": {},
   "outputs": [
    {
     "name": "stdout",
     "output_type": "stream",
     "text": [
      "[[1 2 3]\n",
      " [4 5 6]] (2, 3)\n",
      "[[1 2]\n",
      " [3 4]\n",
      " [5 6]] (3, 2)\n",
      "[[1 2]\n",
      " [3 4]\n",
      " [5 6]] (2, 3) (3, 2)\n"
     ]
    }
   ],
   "source": [
    "# numpy array 차원 정보 사용\n",
    "\n",
    "a = np.array([[1,2,3],[4,5,6]])\n",
    "print(a, a.shape) \n",
    "\n",
    "a.shape = (3, 2) # a를 변경\n",
    "print(a, a.shape)\n",
    "\n",
    "a2 = np.array([[1,2,3],[4,5,6]])\n",
    "a3 = a2.reshape(3, 2) # reshape은 a2를 변경하지 않습니다. -> reshape된 새 배열을 반환\n",
    "print (a3, a2.shape, a3.shape) "
   ]
  },
  {
   "cell_type": "code",
   "execution_count": 14,
   "id": "831b204e",
   "metadata": {},
   "outputs": [
    {
     "name": "stdout",
     "output_type": "stream",
     "text": [
      "[[1 1 1 1 1]\n",
      " [1 1 1 1 1]\n",
      " [1 1 1 1 1]]\n",
      "[[0 0 0 0 0]\n",
      " [0 0 0 0 0]\n",
      " [0 0 0 0 0]]\n",
      "[[                   0      140730677535216                  191\n",
      "                    -1]\n",
      " [ 4189022085447885435  8101260420555416096  2340008625568817273\n",
      "  -5122100670961506325]\n",
      " [ 7236823280293978288  3611935491644996896  2318285220974108716\n",
      "   4404574730101480757]\n",
      " [ 7021800530740538912  3630304116747806841  8241919853483539744\n",
      "   7935391352114209138]\n",
      " [ 6640894364961303908  2891438978336190574  8299625456511758689\n",
      "   3558160555651916136]\n",
      " [ 7952276591925816878  7000881305188135536  7526410196178971698\n",
      "   3328829865391911009]\n",
      " [ 2481021777726760046  8458716092899139628  8462091486378289524\n",
      "     35244983642649710]]\n"
     ]
    }
   ],
   "source": [
    "# numpy array 생성 함수 1\n",
    "\n",
    "x = np.ones([3,5], dtype=int) # 각 값이 1인 3행 5열 배열 만들기\n",
    "print(x)\n",
    "\n",
    "x = np.zeros([3,5], dtype=int) # 각 값이 0인 3행 5열 배열 만들기\n",
    "print(x)\n",
    "\n",
    "x = np.empty([7,4], dtype=int) # 각 값이 ?인 3행 5열 배열 만들기\n",
    "print(x)\n"
   ]
  },
  {
   "cell_type": "code",
   "execution_count": null,
   "id": "d748ca04",
   "metadata": {},
   "outputs": [
    {
     "name": "stdout",
     "output_type": "stream",
     "text": [
      "[1 2 3]\n"
     ]
    }
   ],
   "source": [
    "# numpy array 생성 함수 2\n",
    "\n",
    "x = [1,2,3]\n",
    "a = np.asarray(x)\n",
    "print (a)\n",
    "\n",
    "\n"
   ]
  },
  {
   "cell_type": "code",
   "execution_count": null,
   "id": "0eb83548",
   "metadata": {},
   "outputs": [
    {
     "name": "stdout",
     "output_type": "stream",
     "text": [
      "range(10, 20, 2)\n",
      "[10, 12, 14, 16, 18]\n",
      "[10 12 14 16 18]\n"
     ]
    }
   ],
   "source": [
    "# numpy array 생성 함수 3\n",
    "\n",
    "x1 = range(10, 20, 2)       # 반복자 반환 ( 값의 목록을 반환하지 않습니다 )\n",
    "x2 = np.arange(10, 20, 2)   # numpy array 형식의 값 목록을 반환\n",
    "print(x1) # 반복자이기 때문에 바로 출력할 수 없습니다. - 반복문으로 각 값을 읽어야 합니다.\n",
    "print(list(x1))\n",
    "print(x2) "
   ]
  }
 ],
 "metadata": {
  "kernelspec": {
   "display_name": "Python 3",
   "language": "python",
   "name": "python3"
  },
  "language_info": {
   "codemirror_mode": {
    "name": "ipython",
    "version": 3
   },
   "file_extension": ".py",
   "mimetype": "text/x-python",
   "name": "python",
   "nbconvert_exporter": "python",
   "pygments_lexer": "ipython3",
   "version": "3.11.9"
  }
 },
 "nbformat": 4,
 "nbformat_minor": 5
}
