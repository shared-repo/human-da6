{
 "cells": [
  {
   "cell_type": "code",
   "execution_count": 3,
   "id": "41f071da",
   "metadata": {},
   "outputs": [
    {
     "name": "stdout",
     "output_type": "stream",
     "text": [
      "Requirement already satisfied: numpy in c:\\users\\human\\appdata\\local\\programs\\python\\python311\\lib\\site-packages (2.2.6)\n"
     ]
    },
    {
     "name": "stderr",
     "output_type": "stream",
     "text": [
      "\n",
      "[notice] A new release of pip is available: 24.0 -> 25.1.1\n",
      "[notice] To update, run: python.exe -m pip install --upgrade pip\n"
     ]
    }
   ],
   "source": [
    "# numpy 설치\n",
    "!pip install numpy"
   ]
  },
  {
   "cell_type": "code",
   "execution_count": 4,
   "id": "de158c7d",
   "metadata": {},
   "outputs": [],
   "source": [
    "# numpy를 코드에서 사용할 수 있도록 준비\n",
    "import numpy as np"
   ]
  },
  {
   "cell_type": "code",
   "execution_count": 5,
   "id": "3fd44367",
   "metadata": {},
   "outputs": [
    {
     "data": {
      "text/plain": [
       "(dtype('int64'), dtype('float32'), dtype('float16'))"
      ]
     },
     "execution_count": 5,
     "metadata": {},
     "output_type": "execute_result"
    }
   ],
   "source": [
    "# numpy 자료형\n",
    "x1 = np.array([1, 2, 3]) # 자료형을 지정하지 않으면 데이터를 통해서 자동 선택\n",
    "x2 = np.array([1, 2, 3], dtype='f') # np.array : numpy array 만들기\n",
    "x3 = np.array([1, 2, 3], dtype=np.float16) \n",
    " \n",
    "x1.dtype, x2.dtype, x3.dtype # numpy_array.dtype : 자료형 반환"
   ]
  },
  {
   "cell_type": "code",
   "execution_count": 6,
   "id": "66be8a7f",
   "metadata": {},
   "outputs": [
    {
     "name": "stdout",
     "output_type": "stream",
     "text": [
      "<class 'list'> <class 'numpy.ndarray'> [1, 2, 3] [1 2 3]\n"
     ]
    }
   ],
   "source": [
    "# numpy array 만들기 1\n",
    "\n",
    "d = [1, 2, 3]\n",
    "a = np.array(d)\n",
    "print (type(d), type(a), d, a)\n"
   ]
  },
  {
   "cell_type": "code",
   "execution_count": 7,
   "id": "a8652a73",
   "metadata": {},
   "outputs": [
    {
     "name": "stdout",
     "output_type": "stream",
     "text": [
      "[[1, 2], [3, 4]]\n",
      "[[1 2]\n",
      " [3 4]]\n",
      "(2, 2) 2\n"
     ]
    }
   ],
   "source": [
    "# numpy array 만들기 2\n",
    "d = [[1, 2], [3, 4]]\n",
    "a = np.array(d)\n",
    "print(d)\n",
    "print(a)\n",
    "print(a.shape, a.ndim) # shape : 행, 열 등의 갯수, ndim : 차원"
   ]
  },
  {
   "cell_type": "code",
   "execution_count": 8,
   "id": "8e38195d",
   "metadata": {},
   "outputs": [
    {
     "name": "stdout",
     "output_type": "stream",
     "text": [
      "<class 'list'> <class 'int'> <class 'tuple'>\n"
     ]
    }
   ],
   "source": [
    "# 복합자료형 : list - [], tuple - (), dict - {}\n",
    "\n",
    "a = [1] # a는 list\n",
    "b1 = (1) # b1은 int : ()를 연산자 우선순위 결정 도구 해석\n",
    "b2 = (1,) # b2는 ? : ()를 튜플 생성 도구 해석\n",
    "c = (1 + 3) * 4\n",
    "print(type(a), type(b1), type(b2))"
   ]
  },
  {
   "cell_type": "code",
   "execution_count": 9,
   "id": "a9490599",
   "metadata": {},
   "outputs": [
    {
     "name": "stdout",
     "output_type": "stream",
     "text": [
      "[1 2 3 4 5] (5,) 1\n",
      "[[1 2 3 4 5]] (1, 5) 2\n"
     ]
    }
   ],
   "source": [
    "# numpy array 만들기 3\n",
    "\n",
    "d = [1, 2, 3, 4, 5]\n",
    "a1 = np.array(d)\n",
    "a2 = np.array(d, ndmin=2)\n",
    "print (a1, a1.shape, a1.ndim)\n",
    "print (a2, a2.shape, a2.ndim)\n"
   ]
  },
  {
   "cell_type": "code",
   "execution_count": 10,
   "id": "4f959955",
   "metadata": {},
   "outputs": [
    {
     "name": "stdout",
     "output_type": "stream",
     "text": [
      "[[1 2 3]\n",
      " [4 5 6]] (2, 3)\n",
      "[[1 2]\n",
      " [3 4]\n",
      " [5 6]] (3, 2)\n",
      "[[1 2]\n",
      " [3 4]\n",
      " [5 6]] (2, 3) (3, 2)\n"
     ]
    }
   ],
   "source": [
    "# numpy array 차원 정보 사용\n",
    "\n",
    "a = np.array([[1,2,3],[4,5,6]])\n",
    "print(a, a.shape) \n",
    "\n",
    "a.shape = (3, 2) # a를 변경\n",
    "print(a, a.shape)\n",
    "\n",
    "a2 = np.array([[1,2,3],[4,5,6]])\n",
    "a3 = a2.reshape(3, 2) # reshape은 a2를 변경하지 않습니다. -> reshape된 새 배열을 반환\n",
    "print (a3, a2.shape, a3.shape) "
   ]
  },
  {
   "cell_type": "code",
   "execution_count": 11,
   "id": "831b204e",
   "metadata": {},
   "outputs": [
    {
     "name": "stdout",
     "output_type": "stream",
     "text": [
      "[[1 1 1 1 1]\n",
      " [1 1 1 1 1]\n",
      " [1 1 1 1 1]]\n",
      "[[0 0 0 0 0]\n",
      " [0 0 0 0 0]\n",
      " [0 0 0 0 0]]\n",
      "[[23925768161198179 32370111954616435 30681274979450972 18296268630392929]\n",
      " [27303364806049904 21392493373358196 30399714103066735 31244212046397532]\n",
      " [30681189080760423 34058815785402483 30962724186357876 32651616994721884]\n",
      " [14355696265920616 21392493370212401 32370017465139305 12666807751278697]\n",
      " [30118247716159600 32370056120172641 34058953225207900 28992352104808567]\n",
      " [25896191786221669 28992352104808567 25896191786221669 28992352104808567]\n",
      " [32651505327931493 30399778528231525 32370056121024609      519698382894]]\n"
     ]
    }
   ],
   "source": [
    "# numpy array 생성 함수 1\n",
    "\n",
    "x = np.ones([3,5], dtype=int) # 각 값이 1인 3행 5열 배열 만들기\n",
    "print(x)\n",
    "\n",
    "x = np.zeros([3,5], dtype=int) # 각 값이 0인 3행 5열 배열 만들기\n",
    "print(x)\n",
    "\n",
    "x = np.empty([7,4], dtype=int) # 각 값이 ?인 3행 5열 배열 만들기\n",
    "print(x)\n"
   ]
  },
  {
   "cell_type": "code",
   "execution_count": 12,
   "id": "d748ca04",
   "metadata": {},
   "outputs": [
    {
     "name": "stdout",
     "output_type": "stream",
     "text": [
      "[1 2 3]\n"
     ]
    }
   ],
   "source": [
    "# numpy array 생성 함수 2\n",
    "\n",
    "x = [1,2,3]\n",
    "a = np.asarray(x)\n",
    "print (a)\n",
    "\n",
    "\n"
   ]
  },
  {
   "cell_type": "code",
   "execution_count": 13,
   "id": "0eb83548",
   "metadata": {},
   "outputs": [
    {
     "name": "stdout",
     "output_type": "stream",
     "text": [
      "range(10, 20, 2)\n",
      "[10, 12, 14, 16, 18]\n",
      "[10 12 14 16 18]\n"
     ]
    }
   ],
   "source": [
    "# numpy array 생성 함수 3\n",
    "\n",
    "x1 = range(10, 20, 2)       # 반복자 반환 ( 값의 목록을 반환하지 않습니다 )\n",
    "x2 = np.arange(10, 20, 2)   # numpy array 형식의 값 목록을 반환\n",
    "print(x1) # 반복자이기 때문에 바로 출력할 수 없습니다. - 반복문으로 각 값을 읽어야 합니다.\n",
    "print(list(x1))\n",
    "print(x2) "
   ]
  },
  {
   "cell_type": "code",
   "execution_count": 14,
   "id": "5cc63878",
   "metadata": {},
   "outputs": [
    {
     "name": "stdout",
     "output_type": "stream",
     "text": [
      "[1.   1.25 1.5  1.75 2.  ]\n",
      "[10. 12. 14. 16. 18.]\n",
      "(array([1.  , 1.25, 1.5 , 1.75, 2.  ]), np.float64(0.25))\n"
     ]
    }
   ],
   "source": [
    "# numpy array 생성 함수 4\n",
    "\n",
    "a = np.linspace(1.0, 2.0, num=5)\n",
    "print (a)\n",
    "\n",
    "x = np.linspace(10, 20, 5, endpoint=False)\n",
    "print (x)\n",
    "\n",
    "x = np.linspace(1, 2, 5, retstep=True)\n",
    "print (x) \n"
   ]
  },
  {
   "cell_type": "code",
   "execution_count": null,
   "id": "f922ec7d",
   "metadata": {},
   "outputs": [
    {
     "name": "stdout",
     "output_type": "stream",
     "text": [
      "[0 1 2 3 4 5 6 7 8 9]\n",
      "[2 4 6]\n",
      "[2 4 6]\n",
      "4\n"
     ]
    }
   ],
   "source": [
    "# 인덱싱과 슬라이싱 1\n",
    "\n",
    "a = np.arange(10)\n",
    "s = slice(2,7,2) # 슬라이싱 규칙 만들기 (2에서 7까지 2씩 증가)\n",
    "print(a)\n",
    "print(a[s])\n",
    "\n",
    "# a = np.arange(10) # == np.arange(0, 10)\n",
    "a = np.arange(0, 10)\n",
    "b = a[2:7:2] # [2:7:2] == slice(2, 7, 2)\n",
    "print (b)\n",
    "\n",
    "a = np.arange(10)\n",
    "print(a[4])\n"
   ]
  },
  {
   "cell_type": "code",
   "execution_count": 23,
   "id": "b5975308",
   "metadata": {},
   "outputs": [
    {
     "name": "stdout",
     "output_type": "stream",
     "text": [
      "[[1, 2, 3], [3, 4, 5], [4, 5, 6]]\n",
      "[[1 2 3]\n",
      " [3 4 5]\n",
      " [4 5 6]]\n",
      "[3, 4, 5] [3 4 5]\n",
      "[[3, 4, 5], [4, 5, 6]] [[3 4 5]\n",
      " [4 5 6]]\n",
      "5 5\n",
      "[4, 5] [4 5]\n",
      "[[4, 5, 6]]\n",
      "[[4 5]\n",
      " [5 6]]\n"
     ]
    }
   ],
   "source": [
    "# 인덱싱과 슬라이싱 2\n",
    "\n",
    "d = [[1,2,3],[3,4,5],[4,5,6]]\n",
    "a = np.array(d)\n",
    "\n",
    "print(d)\n",
    "print(a)\n",
    "\n",
    "# 1. 1차원에서는 인덱싱 사용 방법 동일\n",
    "print(d[1], a[1])\n",
    "\n",
    "# 2. 1차원에서는 슬라이싱 사용 방법 동일\n",
    "print(d[1:], a[1:])\n",
    "\n",
    "# 3. 2차원 이상에서 인덱싱 사용 방법 차이\n",
    "print(d[1][2], a[1, 2])\n",
    "\n",
    "# 4. 2차원 이상에서 슬라이싱 사용 방법 차이\n",
    "print(d[1][1:], a[1, 1:])\n",
    "\n",
    "# 5. 2차원 이상에서 슬라이싱 사용 방법 차이 2 - \n",
    "print(d[1:][1:])\n",
    "print(a[1:, 1:])"
   ]
  }
 ],
 "metadata": {
  "kernelspec": {
   "display_name": "Python 3",
   "language": "python",
   "name": "python3"
  },
  "language_info": {
   "codemirror_mode": {
    "name": "ipython",
    "version": 3
   },
   "file_extension": ".py",
   "mimetype": "text/x-python",
   "name": "python",
   "nbconvert_exporter": "python",
   "pygments_lexer": "ipython3",
   "version": "3.11.9"
  }
 },
 "nbformat": 4,
 "nbformat_minor": 5
}
