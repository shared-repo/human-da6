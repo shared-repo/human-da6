{
 "cells": [
  {
   "cell_type": "code",
   "execution_count": null,
   "id": "ee0abfe5",
   "metadata": {},
   "outputs": [],
   "source": [
    "# 1. 날씨 관측 데이터 읽기 (data-files/seoul-temperature.csv)\n",
    "\n",
    "with open('data-files/seoul-temperature.csv', 'rt', encoding=\"utf-8\") as f:\n",
    "    lines = f.readlines() # 파일 전체를 읽어서 행별로 구분한 후 리스트에 담아서 반환"
   ]
  },
  {
   "cell_type": "code",
   "execution_count": 2,
   "id": "12589ce4",
   "metadata": {},
   "outputs": [
    {
     "data": {
      "text/plain": [
       "['날짜,지점,평균기온(℃),최저기온(℃),최고기온(℃)\\n',\n",
       " '1907-10-01,108,13.5,7.9,20.7\\n',\n",
       " '1907-10-02,108,16.2,7.9,22\\n',\n",
       " '1907-10-03,108,16.2,13.1,21.3\\n',\n",
       " '1907-10-04,108,16.5,11.2,22\\n',\n",
       " '1907-10-05,108,17.6,10.9,25.4\\n',\n",
       " '1907-10-06,108,13,11.2,21.3\\n',\n",
       " '1907-10-07,108,11.3,6.3,16.1\\n',\n",
       " '1907-10-08,108,8.9,3.9,14.9\\n',\n",
       " '1907-10-09,108,11.6,3.8,21.1\\n']"
      ]
     },
     "execution_count": 2,
     "metadata": {},
     "output_type": "execute_result"
    }
   ],
   "source": [
    "# 2. 읽은 데이터 확인\n",
    "lines[:10]"
   ]
  },
  {
   "cell_type": "code",
   "execution_count": 3,
   "id": "95809313",
   "metadata": {},
   "outputs": [
    {
     "data": {
      "text/plain": [
       "['1', ' 2', ' 3', ' 4', ' 5']"
      ]
     },
     "execution_count": 3,
     "metadata": {},
     "output_type": "execute_result"
    }
   ],
   "source": [
    "# \"1, 2, 3, 4, 5\" -> ['1', '2', '3', '4', '5']\n",
    "\"1, 2, 3, 4, 5\".split(',') # ,로 구분해서 리스트로 변환"
   ]
  },
  {
   "cell_type": "code",
   "execution_count": 12,
   "id": "e104acf8",
   "metadata": {},
   "outputs": [],
   "source": [
    "# 각 행의 데이터를 ,를 기준으로 분리해서 리스트로 변환\n",
    "rows = [] # 정상 데이터를 저장할 변수\n",
    "invalid_rows = [] # 비정상 데이터를 저장할 변수\n",
    "for line in lines[1:]:\n",
    "    row = line.split(',') # '1907-10-01,108,13.5,7.9,20.7\\n' -> ['1907-10-01','108','13.5','7.9','20.7\\n']\n",
    "    try:\n",
    "        row[2] = float(row[2]) # 문자열 -> 부동소수점 숫자 : '13.5' -> 13.5\n",
    "        row[3] = float(row[3])\n",
    "        row[4] = float(row[4].replace('\\n', '')) # '12.34\\n' -> '12.34' -> 12.34 \n",
    "        rows.append(row)\n",
    "    except:\n",
    "        # print(line, row)\n",
    "        invalid_rows.append(row)"
   ]
  },
  {
   "cell_type": "code",
   "execution_count": null,
   "id": "4ddb00d7",
   "metadata": {},
   "outputs": [
    {
     "name": "stdout",
     "output_type": "stream",
     "text": [
      "41726 760\n"
     ]
    },
    {
     "data": {
      "text/plain": [
       "[['1907-10-01', '108', 13.5, 7.9, 20.7],\n",
       " ['1907-10-02', '108', 16.2, 7.9, 22.0],\n",
       " ['1907-10-03', '108', 16.2, 13.1, 21.3]]"
      ]
     },
     "execution_count": 13,
     "metadata": {},
     "output_type": "execute_result"
    }
   ],
   "source": [
    "# 처리된 데이터 확인\n",
    "print(len(rows), len(invalid_rows)) # 정상 처리 데이터와 비정상 처리 데이터 갯수 확인\n",
    "rows[:3] # 데이터 확인"
   ]
  },
  {
   "cell_type": "code",
   "execution_count": null,
   "id": "c8d76026",
   "metadata": {},
   "outputs": [
    {
     "data": {
      "text/plain": [
       "'날짜,지점,평균기온(℃),최저기온(℃),최고기온(℃)\\n'"
      ]
     },
     "execution_count": 16,
     "metadata": {},
     "output_type": "execute_result"
    }
   ],
   "source": [
    "# 데이터 제목 (컬럼) 확인\n",
    "lines[0]"
   ]
  },
  {
   "cell_type": "code",
   "execution_count": 17,
   "id": "0c0b8767",
   "metadata": {},
   "outputs": [],
   "source": [
    "# 최고기온 컬럼에서 가장 큰 값 찾기\n",
    "max_temp = -1000\n",
    "for row in rows:\n",
    "    if max_temp < row[4]: # 최고기온\n",
    "        max_temp = row[4]"
   ]
  },
  {
   "cell_type": "code",
   "execution_count": 18,
   "id": "305213d0",
   "metadata": {},
   "outputs": [
    {
     "data": {
      "text/plain": [
       "39.6"
      ]
     },
     "execution_count": 18,
     "metadata": {},
     "output_type": "execute_result"
    }
   ],
   "source": [
    "max_temp"
   ]
  },
  {
   "cell_type": "code",
   "execution_count": 19,
   "id": "cdf303aa",
   "metadata": {},
   "outputs": [],
   "source": [
    "# 최고기온 컬럼에서 가장 큰 값이 포함된 행 찾기\n",
    "max_temp_row = rows[0]\n",
    "for row in rows[1:]:\n",
    "    if max_temp_row[4] < row[4]: # 최고기온\n",
    "        max_temp_row = row"
   ]
  },
  {
   "cell_type": "code",
   "execution_count": null,
   "id": "247ebe90",
   "metadata": {},
   "outputs": [
    {
     "data": {
      "text/plain": [
       "['2018-08-01', '108', 33.6, 27.8, 39.6]"
      ]
     },
     "execution_count": 22,
     "metadata": {},
     "output_type": "execute_result"
    }
   ],
   "source": [
    "print( max_temp )\n",
    "max_temp_row"
   ]
  },
  {
   "cell_type": "code",
   "execution_count": 23,
   "id": "e1a171eb",
   "metadata": {},
   "outputs": [],
   "source": [
    "# 최저기온 컬럼에서 가장 작은 값이 포함된 행 찾기\n",
    "min_temp_row = rows[0]\n",
    "for row in rows[1:]:\n",
    "    if min_temp_row[3] > row[3]:\n",
    "        min_temp_row = row"
   ]
  },
  {
   "cell_type": "code",
   "execution_count": 24,
   "id": "3351ce98",
   "metadata": {},
   "outputs": [
    {
     "data": {
      "text/plain": [
       "['1927-12-31', '108', -15.3, -23.1, -6.4]"
      ]
     },
     "execution_count": 24,
     "metadata": {},
     "output_type": "execute_result"
    }
   ],
   "source": [
    "min_temp_row"
   ]
  },
  {
   "cell_type": "code",
   "execution_count": 25,
   "id": "fd1203df",
   "metadata": {},
   "outputs": [
    {
     "data": {
      "text/plain": [
       "'12'"
      ]
     },
     "execution_count": 25,
     "metadata": {},
     "output_type": "execute_result"
    }
   ],
   "source": [
    "'1927-12-31'[5:7]"
   ]
  },
  {
   "cell_type": "code",
   "execution_count": 32,
   "id": "ebba6e08",
   "metadata": {},
   "outputs": [],
   "source": [
    "# 5월 중에 가장 추웠던 날과 가장 더웠던 날 찾기\n",
    "min_temp_row = None\n",
    "max_temp_row = None\n",
    "for row in rows:\n",
    "    if row[0][5:7] == '05':\n",
    "        if (min_temp_row == None) or (min_temp_row[3] > row[3]):\n",
    "            min_temp_row = row\n",
    "        if (max_temp_row == None) or (max_temp_row[4] < row[4]):\n",
    "            max_temp_row = row"
   ]
  },
  {
   "cell_type": "code",
   "execution_count": 33,
   "id": "bf064858",
   "metadata": {},
   "outputs": [
    {
     "data": {
      "text/plain": [
       "(['1950-05-30', '108', 24.2, 17.1, 34.4],\n",
       " ['1917-05-02', '108', 9.5, 2.4, 16.3])"
      ]
     },
     "execution_count": 33,
     "metadata": {},
     "output_type": "execute_result"
    }
   ],
   "source": [
    "max_temp_row, min_temp_row"
   ]
  },
  {
   "cell_type": "code",
   "execution_count": null,
   "id": "8e0616a4",
   "metadata": {},
   "outputs": [],
   "source": [
    "# 내 생일 중 가장 더웠던 날 / 가장 추웠던 날 찾기\n",
    "# 내가 태어난 날의 날씨(기온)\n",
    "# 일교차가 가장 컸던 날 / 가장 작았던 날"
   ]
  }
 ],
 "metadata": {
  "kernelspec": {
   "display_name": "Python 3",
   "language": "python",
   "name": "python3"
  },
  "language_info": {
   "codemirror_mode": {
    "name": "ipython",
    "version": 3
   },
   "file_extension": ".py",
   "mimetype": "text/x-python",
   "name": "python",
   "nbconvert_exporter": "python",
   "pygments_lexer": "ipython3",
   "version": "3.11.9"
  }
 },
 "nbformat": 4,
 "nbformat_minor": 5
}
