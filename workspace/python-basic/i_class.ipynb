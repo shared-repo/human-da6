{
 "cells": [
  {
   "cell_type": "code",
   "execution_count": null,
   "id": "6895a983",
   "metadata": {},
   "outputs": [],
   "source": [
    "# 클래스 만들기\n",
    "\n",
    "class Employee:\n",
    "\n",
    "    'Common base class for all employees' # 클래스 또는 함수의 첫 문자열은 문서 주석\n",
    "\n",
    "    empCount = 0 # 클래스 변수 : 객체를 여러 개 만들어도 1번만 만들어져서 여러 객체가 공유하는 변수\n",
    "    def __init__(self, name, salary): # __init__ : 객체가 생성될 때 자동으로 호출되는 함수 ( 초기화 함수 )\n",
    "        self.name = name        # 객체 내부에 변수 만들기 : self.변수이름 = 값\n",
    "        self.salary = salary\n",
    "        Employee.empCount += 1 # 클래스 변수는 클래스이름.변수이름 형식으로 사용\n",
    "    \n",
    "    def displayCount(self): # 클래스에 포함된 함수는 모두 첫 번째 전달인자가 self ( 객체 자신에 대한 표현 )\n",
    "        print(\"Total Employee %d\" % Employee.empCount)\n",
    "    \n",
    "    def displayEmployee(self):\n",
    "        print(\"Name : \", self.name, \", Salary: \", self.salary) # 객체 내부에서 함수 또는 변수 사용할 때 self.함수이름 또는 self.변수이름으로 표현"
   ]
  },
  {
   "cell_type": "code",
   "execution_count": null,
   "id": "d476b1cf",
   "metadata": {},
   "outputs": [
    {
     "name": "stdout",
     "output_type": "stream",
     "text": [
      "Name :  차은우 , Salary:  1000\n",
      "차은우\n",
      "Name :  홍길동 , Salary:  2000\n"
     ]
    }
   ],
   "source": [
    "# 클래스로 변수(객체, 인스턴스) 만들기\n",
    "a = 10\n",
    "emp = Employee(\"차은우\", 1000) # Employee() --> Employee 클래스의 __init__() 함수 자동 호출\n",
    "\n",
    "# 객체 내부의 변수 또는 함수를 사용할 때 .연산자 사용\n",
    "emp.displayEmployee()\n",
    "\n",
    "emp.name = \"홍길동\"\n",
    "emp.salary = 2000\n",
    "emp.displayEmployee()"
   ]
  },
  {
   "cell_type": "code",
   "execution_count": 7,
   "id": "e62b1b0d",
   "metadata": {},
   "outputs": [
    {
     "name": "stdout",
     "output_type": "stream",
     "text": [
      "장동건 송강호\n",
      "7 7\n"
     ]
    }
   ],
   "source": [
    "emp1 = Employee('장동건', 5000)\n",
    "emp2 = Employee('송강호', 3000)\n",
    "\n",
    "print(emp1.name, emp2.name)\n",
    "print(emp1.empCount, emp2.empCount)"
   ]
  },
  {
   "cell_type": "code",
   "execution_count": null,
   "id": "5dd6c42f",
   "metadata": {},
   "outputs": [],
   "source": []
  },
  {
   "cell_type": "code",
   "execution_count": 13,
   "id": "3d620e08",
   "metadata": {},
   "outputs": [],
   "source": [
    "class Parent: # define parent class\n",
    "    parentAttr = 100\n",
    "    def __init__(self):\n",
    "        print (\"Calling parent constructor\")\n",
    "    def parentMethod(self):\n",
    "        print ('Calling parent method')\n",
    "    def setAttr(self, attr):\n",
    "        Parent.parentAttr = attr\n",
    "    def getAttr(self):\n",
    "        print (\"Parent attribute :\", Parent.parentAttr)\n",
    "\n",
    "# class Child:\n",
    "class Child(Parent): # 상속 :  이 클래스는 Parent 클래스의 모든 멤버를 포함\n",
    "    def __init__(self):\n",
    "        print (\"Calling child constructor\")\n",
    "    def childMethod(self):\n",
    "        print ('Calling child method')"
   ]
  },
  {
   "cell_type": "code",
   "execution_count": 15,
   "id": "cd06da3f",
   "metadata": {},
   "outputs": [
    {
     "name": "stdout",
     "output_type": "stream",
     "text": [
      "Calling child constructor\n",
      "Calling child method\n",
      "Calling parent method\n",
      "Parent attribute : 200\n"
     ]
    }
   ],
   "source": [
    "c = Child()         # instance of child\n",
    "c.childMethod()     # child calls its method\n",
    "\n",
    "c.parentMethod()    # calls parent's method\n",
    "c.setAttr(200)      # again call parent's method\n",
    "c.getAttr()         # again call parent's method"
   ]
  }
 ],
 "metadata": {
  "kernelspec": {
   "display_name": "Python 3",
   "language": "python",
   "name": "python3"
  },
  "language_info": {
   "codemirror_mode": {
    "name": "ipython",
    "version": 3
   },
   "file_extension": ".py",
   "mimetype": "text/x-python",
   "name": "python",
   "nbconvert_exporter": "python",
   "pygments_lexer": "ipython3",
   "version": "3.11.9"
  }
 },
 "nbformat": 4,
 "nbformat_minor": 5
}
