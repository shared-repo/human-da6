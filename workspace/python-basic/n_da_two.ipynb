{
 "cells": [
  {
   "cell_type": "code",
   "execution_count": null,
   "id": "99c44947",
   "metadata": {},
   "outputs": [],
   "source": [
    "# population.csv 파일을 읽어서 리스트 변수에 저장\n",
    "# 저장 형식은 m_da_one.ipynb 파일 참고"
   ]
  }
 ],
 "metadata": {
  "language_info": {
   "name": "python"
  }
 },
 "nbformat": 4,
 "nbformat_minor": 5
}
