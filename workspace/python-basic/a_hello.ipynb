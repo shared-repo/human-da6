{
 "cells": [
  {
   "cell_type": "code",
   "execution_count": 1,
   "id": "7ff62d49",
   "metadata": {},
   "outputs": [
    {
     "name": "stdout",
     "output_type": "stream",
     "text": [
      "hello, python with jupyter notebook\n"
     ]
    }
   ],
   "source": [
    "print(\"hello, python with jupyter notebook\")"
   ]
  },
  {
   "cell_type": "code",
   "execution_count": 2,
   "id": "de0d7acb",
   "metadata": {},
   "outputs": [
    {
     "name": "stdout",
     "output_type": "stream",
     "text": [
      "내 이름은 홍길동입니다.\n"
     ]
    }
   ],
   "source": [
    "print(\"내 이름은 홍길동입니다.\")"
   ]
  }
 ],
 "metadata": {
  "kernelspec": {
   "display_name": "Python 3",
   "language": "python",
   "name": "python3"
  },
  "language_info": {
   "codemirror_mode": {
    "name": "ipython",
    "version": 3
   },
   "file_extension": ".py",
   "mimetype": "text/x-python",
   "name": "python",
   "nbconvert_exporter": "python",
   "pygments_lexer": "ipython3",
   "version": "3.11.9"
  }
 },
 "nbformat": 4,
 "nbformat_minor": 5
}
