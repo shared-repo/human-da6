{
 "cells": [
  {
   "cell_type": "code",
   "execution_count": 1,
   "id": "7e22d2ab",
   "metadata": {},
   "outputs": [
    {
     "name": "stdout",
     "output_type": "stream",
     "text": [
      "테스트를 위한 모듈\n",
      "오늘은 비오는 금요일입니다. 저녁은 막걸리에 파전\n"
     ]
    },
    {
     "data": {
      "text/plain": [
       "200"
      ]
     },
     "execution_count": 1,
     "metadata": {},
     "output_type": "execute_result"
    }
   ],
   "source": [
    "import my_module # 별도의 파일에 포함된 코드를 사용하기 위해 그 파일 읽기\n",
    "\n",
    "print( my_module.title )\n",
    "my_module.show_msg(\"오늘은 비오는 금요일입니다. 저녁은 막걸리에 파전\")\n",
    "\n",
    "my_module.multiply(10, 20)"
   ]
  },
  {
   "cell_type": "code",
   "execution_count": 2,
   "id": "67ff78ec",
   "metadata": {},
   "outputs": [
    {
     "name": "stdout",
     "output_type": "stream",
     "text": [
      "테스트를 위한 모듈\n",
      "마지막 시간입니다. 곧 집에 갑니다.\n"
     ]
    },
    {
     "data": {
      "text/plain": [
       "20000"
      ]
     },
     "execution_count": 2,
     "metadata": {},
     "output_type": "execute_result"
    }
   ],
   "source": [
    "from my_module import title, show_msg, multiply # 모듈에 포함된 개별 변수, 함수를 가각 import\n",
    "\n",
    "print(title)\n",
    "show_msg(\"마지막 시간입니다. 곧 집에 갑니다.\")\n",
    "multiply(100, 200)"
   ]
  },
  {
   "cell_type": "code",
   "execution_count": null,
   "id": "668fa707",
   "metadata": {},
   "outputs": [],
   "source": [
    "import my_module as mm # my_module을 import 해서 mm 이라는 이름으로 사용\n",
    "\n",
    "print(mm.title)\n",
    "mm.show_msg(\"마지막 시간입니다. 곧 집에 갑니다.\")\n",
    "mm.multiply(100, 200)\n"
   ]
  },
  {
   "cell_type": "code",
   "execution_count": 3,
   "id": "58f9b02a",
   "metadata": {},
   "outputs": [
    {
     "name": "stdout",
     "output_type": "stream",
     "text": [
      "테스트를 위한 모듈\n",
      "마지막 시간입니다. 곧 집에 갑니다.\n"
     ]
    },
    {
     "data": {
      "text/plain": [
       "20000"
      ]
     },
     "execution_count": 3,
     "metadata": {},
     "output_type": "execute_result"
    }
   ],
   "source": [
    "from my_module import title as mtitle, show_msg as mshow_msg, multiply as mmultiply\n",
    "\n",
    "print(mtitle)\n",
    "mshow_msg(\"마지막 시간입니다. 곧 집에 갑니다.\")\n",
    "mmultiply(100, 200)"
   ]
  },
  {
   "cell_type": "code",
   "execution_count": 1,
   "id": "4854e79e",
   "metadata": {},
   "outputs": [
    {
     "data": {
      "text/plain": [
       "'반갑습니다. 장동건님. 유쾌한 주말 보내세요'"
      ]
     },
     "execution_count": 1,
     "metadata": {},
     "output_type": "execute_result"
    }
   ],
   "source": [
    "import pack1.pack2.pack3.test_module\n",
    "\n",
    "pack1.pack2.pack3.test_module.get_greetings(\"장동건\")"
   ]
  },
  {
   "cell_type": "code",
   "execution_count": 2,
   "id": "38cb1736",
   "metadata": {},
   "outputs": [
    {
     "data": {
      "text/plain": [
       "'반갑습니다. 장동건님. 유쾌한 주말 보내세요'"
      ]
     },
     "execution_count": 2,
     "metadata": {},
     "output_type": "execute_result"
    }
   ],
   "source": [
    "from pack1.pack2.pack3 import test_module\n",
    "\n",
    "\n",
    "test_module.get_greetings(\"장동건\")"
   ]
  }
 ],
 "metadata": {
  "kernelspec": {
   "display_name": "Python 3",
   "language": "python",
   "name": "python3"
  },
  "language_info": {
   "codemirror_mode": {
    "name": "ipython",
    "version": 3
   },
   "file_extension": ".py",
   "mimetype": "text/x-python",
   "name": "python",
   "nbconvert_exporter": "python",
   "pygments_lexer": "ipython3",
   "version": "3.11.9"
  }
 },
 "nbformat": 4,
 "nbformat_minor": 5
}
