{
 "cells": [
  {
   "cell_type": "code",
   "execution_count": null,
   "id": "8a3e7708",
   "metadata": {},
   "outputs": [
    {
     "name": "stdout",
     "output_type": "stream",
     "text": [
      "홍길동\n",
      "32\n",
      "<class 'str'> <class 'str'>\n",
      "<class 'str'> <class 'str'> <class 'int'>\n"
     ]
    }
   ],
   "source": [
    "# 사용자 입력 처리\n",
    "\n",
    "name = input(\"이름을 입력하세요\") # 메시지 출력 -> 사용자 입력 -> 입력 내용을 name 변수에 저장\n",
    "print(name)\n",
    "age = input(\"나이를 입력하세요\")\n",
    "print(age)\n",
    "\n",
    "print(type(name), type(age)) # input 함수로 입력 받은 데이터는 모두 문자열(str)\n",
    "age2 = int(age) # 다른 타입의 데이터를 int(정수형) 데이터로 변환\n",
    "print(type(name), type(age), type(age2))"
   ]
  },
  {
   "cell_type": "code",
   "execution_count": 7,
   "id": "bda41eee",
   "metadata": {},
   "outputs": [
    {
     "name": "stdout",
     "output_type": "stream",
     "text": [
      "7 X 1 = 7\n",
      "7 X 2 = 14\n",
      "7 X 3 = 21\n",
      "7 X 4 = 28\n",
      "7 X 5 = 35\n",
      "7 X 6 = 42\n",
      "7 X 7 = 49\n",
      "7 X 8 = 56\n",
      "7 X 9 = 63\n"
     ]
    }
   ],
   "source": [
    "# 1 ~ 9 숫자 입력 - input 함수 사용\n",
    "# 입력된 숫자에 해당되는 구구단 출력 - 반복문 사용\n",
    "\n",
    "# 5 x 1 = 5\n",
    "# 5 x 2 = 10\n",
    "# ...\n",
    "# 5 x 9 = 45\n",
    "\n",
    "dan = input(\"1 ~ 9 숫자 입력\")\n",
    "dan = int(dan)\n",
    "# numbers = [1, 2, 3, 4, 5, 6, 7, 8, 9]\n",
    "numbers = range(1, 10)\n",
    "\n",
    "for number in numbers:\n",
    "    print(f\"{dan} X {number} = {dan * number}\")\n",
    "\n",
    "\n",
    "\n",
    "\n"
   ]
  },
  {
   "cell_type": "code",
   "execution_count": null,
   "id": "39cd18a0",
   "metadata": {},
   "outputs": [],
   "source": []
  }
 ],
 "metadata": {
  "kernelspec": {
   "display_name": "Python 3",
   "language": "python",
   "name": "python3"
  },
  "language_info": {
   "codemirror_mode": {
    "name": "ipython",
    "version": 3
   },
   "file_extension": ".py",
   "mimetype": "text/x-python",
   "name": "python",
   "nbconvert_exporter": "python",
   "pygments_lexer": "ipython3",
   "version": "3.11.9"
  }
 },
 "nbformat": 4,
 "nbformat_minor": 5
}
