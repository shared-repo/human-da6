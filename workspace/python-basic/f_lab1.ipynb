{
 "cells": [
  {
   "cell_type": "code",
   "execution_count": null,
   "id": "8a3e7708",
   "metadata": {},
   "outputs": [
    {
     "name": "stdout",
     "output_type": "stream",
     "text": [
      "홍길동\n",
      "32\n",
      "<class 'str'> <class 'str'>\n",
      "<class 'str'> <class 'str'> <class 'int'>\n"
     ]
    }
   ],
   "source": [
    "# 사용자 입력 처리\n",
    "\n",
    "name = input(\"이름을 입력하세요\") # 메시지 출력 -> 사용자 입력 -> 입력 내용을 name 변수에 저장\n",
    "print(name)\n",
    "age = input(\"나이를 입력하세요\")\n",
    "print(age)\n",
    "\n",
    "print(type(name), type(age)) # input 함수로 입력 받은 데이터는 모두 문자열(str)\n",
    "age2 = int(age) # 다른 타입의 데이터를 int(정수형) 데이터로 변환\n",
    "print(type(name), type(age), type(age2))"
   ]
  },
  {
   "cell_type": "code",
   "execution_count": 11,
   "id": "bda41eee",
   "metadata": {},
   "outputs": [
    {
     "name": "stdout",
     "output_type": "stream",
     "text": [
      "5 X 1 =  5\n",
      "5 X 2 = 10\n",
      "5 X 3 = 15\n",
      "5 X 4 = 20\n",
      "5 X 5 = 25\n",
      "5 X 6 = 30\n",
      "5 X 7 = 35\n",
      "5 X 8 = 40\n",
      "5 X 9 = 45\n"
     ]
    }
   ],
   "source": [
    "# 1 ~ 9 숫자 입력 - input 함수 사용\n",
    "# 입력된 숫자에 해당되는 구구단 출력 - 반복문 사용\n",
    "\n",
    "# 5 x 1 = 5\n",
    "# 5 x 2 = 10\n",
    "# ...\n",
    "# 5 x 9 = 45\n",
    "\n",
    "dan = input(\"1 ~ 9 숫자 입력\")\n",
    "dan = int(dan)\n",
    "# numbers = [1, 2, 3, 4, 5, 6, 7, 8, 9]\n",
    "numbers = range(1, 10)\n",
    "\n",
    "for number in numbers:\n",
    "    print(f\"{dan} X {number} = {dan * number:>2d}\")"
   ]
  },
  {
   "cell_type": "code",
   "execution_count": null,
   "id": "39cd18a0",
   "metadata": {},
   "outputs": [
    {
     "name": "stdout",
     "output_type": "stream",
     "text": [
      "숫자가 아닙니다. 다시 입력하세요\n",
      "1 ~ 9 사이의 숫자가 아닙니다. 다시 입력하세요\n",
      "1 ~ 9 사이의 숫자가 아닙니다. 다시 입력하세요\n",
      "8 X 1 = 8\n",
      "8 X 2 = 16\n",
      "8 X 3 = 24\n",
      "8 X 4 = 32\n",
      "8 X 5 = 40\n",
      "8 X 6 = 48\n",
      "8 X 7 = 56\n",
      "8 X 8 = 64\n",
      "8 X 9 = 72\n"
     ]
    }
   ],
   "source": [
    "# 1 ~ 9 숫자 입력 - input 함수 사용\n",
    "# 입력된 숫자에 해당되는 구구단 출력 - 반복문 사용\n",
    "\n",
    "# 5 x 1 = 5\n",
    "# 5 x 2 = 10\n",
    "# ...\n",
    "# 5 x 9 = 45\n",
    "\n",
    "while True:\n",
    "    dan = input(\"1 ~ 9 숫자 입력\")\n",
    "    check_digit = dan.isdigit() # isdigit : 입력 내용이 숫자로만 이루어져 있으면 True 아니면 False\n",
    "    if check_digit == False: # 숫자가 아닌 경우\n",
    "        print(\"정수가 아닙니다. 다시 입력하세요\")\n",
    "        continue\n",
    "\n",
    "    dan = int(dan)\n",
    "    if (dan <= 0) or (dan >= 10):\n",
    "        print(\"1 ~ 9 사이의 숫자가 아닙니다. 다시 입력하세요\")\n",
    "        continue\n",
    "\n",
    "    break # 여기까지 온 것은 입력이 정상이라는 의미 -> 입력 반복 중단\n",
    "\n",
    "# numbers = [1, 2, 3, 4, 5, 6, 7, 8, 9]\n",
    "numbers = range(1, 10)\n",
    "\n",
    "for number in numbers:\n",
    "    print(f\"{dan} X {number} = {dan * number}\")"
   ]
  },
  {
   "cell_type": "code",
   "execution_count": 13,
   "id": "14612be3",
   "metadata": {},
   "outputs": [
    {
     "data": {
      "text/plain": [
       "(True, False)"
      ]
     },
     "execution_count": 13,
     "metadata": {},
     "output_type": "execute_result"
    }
   ],
   "source": [
    "\"123\".isdigit(), 'abc'.isdigit()"
   ]
  },
  {
   "cell_type": "code",
   "execution_count": 15,
   "id": "ab77defc",
   "metadata": {},
   "outputs": [
    {
     "name": "stdout",
     "output_type": "stream",
     "text": [
      "\n",
      "4단 구구단 출력:\n",
      "4 x 1 = 4\n",
      "4 x 2 = 8\n",
      "4 x 3 = 12\n",
      "4 x 4 = 16\n",
      "4 x 5 = 20\n",
      "4 x 6 = 24\n",
      "4 x 7 = 28\n",
      "4 x 8 = 32\n",
      "4 x 9 = 36\n"
     ]
    }
   ],
   "source": [
    "# 1. 사용자로부터 구구단의 단을 입력받음\n",
    "dan = int(input(\"출력할 구구단의 단을 입력하세요 (2~9): \"))\n",
    "\n",
    "# 2. 입력받은 단의 구구단 출력\n",
    "if 2 <= dan <= 9:\n",
    "    print(f\"\\n{dan}단 구구단 출력:\")\n",
    "    for i in range(1, 10):\n",
    "        print(f\"{dan} x {i} = {dan * i}\")\n",
    "else:\n",
    "    print(\"2부터 9 사이의 숫자를 입력해주세요.\")\n"
   ]
  },
  {
   "cell_type": "code",
   "execution_count": null,
   "id": "8a8fb336",
   "metadata": {},
   "outputs": [],
   "source": []
  },
  {
   "cell_type": "code",
   "execution_count": null,
   "id": "218ac2b8",
   "metadata": {},
   "outputs": [],
   "source": [
    "#로또 번호 추출기\n",
    "# 1. 기본 번호 뽑기 - 1 ~ 45, random, 6개, 중복X\n",
    "# 2. 뽑힌 번호의 평균은 20 ~ 25 ( 아니면 1부터 다시 )"
   ]
  },
  {
   "cell_type": "code",
   "execution_count": 36,
   "id": "3de17d04",
   "metadata": {},
   "outputs": [
    {
     "name": "stdout",
     "output_type": "stream",
     "text": [
      "[14, 14, 24, 27, 31, 39]\n"
     ]
    }
   ],
   "source": [
    "# 1-1. 1 ~45 사이의 Random 숫자를 6개 뽑아서 리스트에 저장 - 정렬해서 출력\n",
    "# 반복문 사용 ( for )\n",
    "import random\n",
    "\n",
    "numbers = []\n",
    "for _ in range(6): # _는 저장만 하고 사용하지 않을 때 활용하는 변수 이름\n",
    "    number = random.randint(1, 45)\n",
    "    numbers.append(number)\n",
    "\n",
    "numbers.sort()\n",
    "print(numbers)"
   ]
  },
  {
   "cell_type": "code",
   "execution_count": 41,
   "id": "5c69e56c",
   "metadata": {},
   "outputs": [
    {
     "name": "stdout",
     "output_type": "stream",
     "text": [
      "[2, 20, 23, 35, 40, 42]\n"
     ]
    }
   ],
   "source": [
    "# 1-2. 1 ~ 45 사이의 중복되지 않는 Random 숫자를 6개 뽑아서 리스트에 저장 - 정렬해서 출력\n",
    "# 반복문 사용 ( for )\n",
    "import random\n",
    "\n",
    "numbers = []\n",
    "while len(numbers) < 6: # 뽑힌 숫자의 갯수가 6개 미만인 경우\n",
    "    number = random.randint(1, 45)\n",
    "    if number not in numbers: # number가 numbers에 포함되지 않는 경우\n",
    "        numbers.append(number)\n",
    "\n",
    "numbers.sort()\n",
    "print(numbers)"
   ]
  },
  {
   "cell_type": "code",
   "execution_count": 46,
   "id": "314079fe",
   "metadata": {},
   "outputs": [
    {
     "name": "stdout",
     "output_type": "stream",
     "text": [
      "[2, 20, 23, 35, 40, 42]\n",
      "162\n",
      "6\n",
      "27.0\n"
     ]
    }
   ],
   "source": [
    "# 리스트에 포함된 데이터의 평균 계산\n",
    "print( numbers )\n",
    "print( sum(numbers) ) # sum : 합계\n",
    "print( len(numbers) ) # len : 갯수\n",
    "mean = sum(numbers) / len(numbers) # 평균 계산\n",
    "print(mean)"
   ]
  },
  {
   "cell_type": "code",
   "execution_count": null,
   "id": "c106060b",
   "metadata": {},
   "outputs": [],
   "source": []
  },
  {
   "cell_type": "code",
   "execution_count": null,
   "id": "382efd1c",
   "metadata": {},
   "outputs": [],
   "source": [
    "# 구구단 전체 출력\n",
    "# 1 x 1 = 1 ...   9 x 1 =  9\n",
    "# 1 x 2 = 2 ...   9 x 2 = 18\n",
    "# ...\n",
    "# 1 x 9 = 9 ...   9 x 9 = 81"
   ]
  }
 ],
 "metadata": {
  "kernelspec": {
   "display_name": "Python 3",
   "language": "python",
   "name": "python3"
  },
  "language_info": {
   "codemirror_mode": {
    "name": "ipython",
    "version": 3
   },
   "file_extension": ".py",
   "mimetype": "text/x-python",
   "name": "python",
   "nbconvert_exporter": "python",
   "pygments_lexer": "ipython3",
   "version": "3.11.9"
  }
 },
 "nbformat": 4,
 "nbformat_minor": 5
}
