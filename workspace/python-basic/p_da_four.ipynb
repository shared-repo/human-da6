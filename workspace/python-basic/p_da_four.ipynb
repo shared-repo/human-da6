{
 "cells": [
  {
   "cell_type": "code",
   "execution_count": null,
   "id": "773af96b",
   "metadata": {},
   "outputs": [],
   "source": [
    "# subway-data-2.csv 파일의 데이터를 읽어서 리스트로 구성\n",
    "# csv 모듈 사용\n",
    "# 숫자는 숫자형으로 변경\n",
    "# 주의 : 제목 행 없음"
   ]
  }
 ],
 "metadata": {
  "language_info": {
   "name": "python"
  }
 },
 "nbformat": 4,
 "nbformat_minor": 5
}
