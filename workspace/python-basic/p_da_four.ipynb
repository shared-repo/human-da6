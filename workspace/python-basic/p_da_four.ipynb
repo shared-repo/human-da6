{
 "cells": [
  {
   "cell_type": "code",
   "execution_count": 2,
   "id": "773af96b",
   "metadata": {},
   "outputs": [
    {
     "data": {
      "text/plain": [
       "['2025-02', '1호선', '0150', '서울역', 587]"
      ]
     },
     "execution_count": 2,
     "metadata": {},
     "output_type": "execute_result"
    }
   ],
   "source": [
    "# subway-data-2.csv 파일의 데이터를 읽어서 리스트로 구성\n",
    "# csv 모듈 사용\n",
    "# 숫자는 숫자형으로 변경 ( 4번째 ~ 끝에서 2번째)\n",
    "# 주의 : 제목 행 없음\n",
    "\n",
    "import csv\n",
    "\n",
    "rows = []\n",
    "with open('data-files/subway-data-2.csv', 'rt', encoding=\"utf-8\") as f:\n",
    "    reader = csv.reader(f)\n",
    "\n",
    "    for row in reader:\n",
    "        for i in range(4, len(row) - 1):\n",
    "            row[i] = int(row[i].replace(',', ''))\n",
    "        \n",
    "        rows.append(row)\n",
    "\n",
    "rows[0][:5]"
   ]
  },
  {
   "cell_type": "code",
   "execution_count": null,
   "id": "bfea19c9",
   "metadata": {},
   "outputs": [
    {
     "data": {
      "text/plain": [
       "15"
      ]
     },
     "execution_count": 3,
     "metadata": {},
     "output_type": "execute_result"
    }
   ],
   "source": [
    "# 리스트에 포함된 모든 수치형 데이터의 합 계산\n",
    "a = [1, 2, 3, 4, 5]\n",
    "sum(a) # "
   ]
  },
  {
   "cell_type": "code",
   "execution_count": 10,
   "id": "3650b41e",
   "metadata": {},
   "outputs": [
    {
     "name": "stdout",
     "output_type": "stream",
     "text": [
      "['2025-02', '2호선', '0222', '강남'] 4484564\n",
      "['2025-02', '7호선', '2711', '장암'] 100565\n"
     ]
    }
   ],
   "source": [
    "# 이용객수가 가장 많은 지하철역 찾기\n",
    "# 이용객수 계산 : 모든 시간의 (승차인원 + 하차인원)의 합 ( 각 행의 4번째 데이터 ~ 뒤에서 2번째 데이터 )\n",
    "\n",
    "rows = []\n",
    "with open('data-files/subway-data-2.csv', 'rt', encoding=\"utf-8\") as f:\n",
    "    reader = csv.reader(f)\n",
    "\n",
    "    for row in reader:\n",
    "        for i in range(4, len(row) - 1):\n",
    "            row[i] = int(row[i].replace(',', ''))\n",
    "        \n",
    "        rows.append(row)\n",
    "\n",
    "# --------------------------------------------------------------------------\n",
    "\n",
    "max_row = rows[0]\n",
    "min_row = rows[0]\n",
    "\n",
    "for row in rows:\n",
    "    # print(row)\n",
    "    current_sum = sum(row[4:-1]) # 현재 행의 총 승하차 인원\n",
    "    # print(current_sum)\n",
    "    max_sum = sum(max_row[4:-1]) # 이전 행들 중 총 승하차 인원이 가장 많은 행의 인원\n",
    "    min_sum = sum(min_row[4:-1]) # 이전 행들 중 총 승하차 인원이 가장 적은 행의 인원\n",
    "\n",
    "    if max_sum < current_sum: # 현재 행의 총 승하차 인원이 이전의 최대 총 승하차 인원보다 많은 경우\n",
    "        max_row = row\n",
    "    if current_sum > 100000 and min_sum > current_sum: # 현재 행의 총 승하차 인원이 이전의 최소 총 승하차 인원보다 적은 경우\n",
    "        min_row = row\n",
    "\n",
    "print(max_row[:4], sum(max_row[4:-1]))\n",
    "print(min_row[:4], sum(min_row[4:-1]))\n",
    "    "
   ]
  },
  {
   "cell_type": "code",
   "execution_count": null,
   "id": "1890a696",
   "metadata": {},
   "outputs": [],
   "source": []
  },
  {
   "cell_type": "code",
   "execution_count": null,
   "id": "683f4552",
   "metadata": {},
   "outputs": [
    {
     "name": "stdout",
     "output_type": "stream",
     "text": [
      "1 5\n",
      "[1, 2, 3, 4, 5]\n",
      "[5, 4, 3, 2, 1]\n",
      "2\n",
      "4\n"
     ]
    }
   ],
   "source": [
    "a = [1, 5, 4, 2, 3]\n",
    "print( min(a), max(a) )\n",
    "a.sort()\n",
    "print( a )\n",
    "a.reverse()\n",
    "print( a )\n",
    "print(a.index(3)) # 3의 위치\n",
    "print(a.index( min(a) )) # 최소값의 위치"
   ]
  },
  {
   "cell_type": "code",
   "execution_count": 2,
   "id": "8a0edf51",
   "metadata": {},
   "outputs": [
    {
     "name": "stdout",
     "output_type": "stream",
     "text": [
      "['2025-02', '1호선', '0150', '서울역'] 3701324\n",
      "['2025-02', '2호선', '0221', '역삼'] 2858082\n",
      "['2025-02', '2호선', '0232', '구로디지털단지'] 3087645\n",
      "['2025-02', '2호선', '0216', '잠실(송파구청)'] 4382988\n",
      "['2025-02', '2호선', '0230', '신림'] 2983763\n",
      "['2025-02', '2호선', '0234', '신도림'] 2785625\n",
      "['2025-02', '2호선', '0222', '강남'] 4484564\n",
      "['2025-02', '2호선', '0219', '삼성(무역센터)'] 2934134\n",
      "['2025-02', '2호선', '0239', '홍대입구'] 4257873\n",
      "['2025-02', '2호선', '0220', '선릉'] 2859695\n"
     ]
    }
   ],
   "source": [
    "# 이용객수가 많은 상위 10개 지하철역 찾기\n",
    "# 이용객수 계산 : 모든 시간의 (승차인원 + 하차인원)의 합 ( 각 행의 4번째 데이터 ~ 뒤에서 2번째 데이터 )\n",
    "import csv \n",
    "\n",
    "rows = []\n",
    "with open('data-files/subway-data-2.csv', 'rt', encoding=\"utf-8\") as f:\n",
    "    reader = csv.reader(f)\n",
    "\n",
    "    for row in reader:\n",
    "        for i in range(4, len(row) - 1):\n",
    "            row[i] = int(row[i].replace(',', ''))\n",
    "        \n",
    "        rows.append(row)\n",
    "\n",
    "# --------------------------------------------------------------------------\n",
    "\n",
    "max_rows = [ ] # 이용객수가 많은 행 저장할 리스트\n",
    "max_values = [ ] # 이용객수가 많은 행의 이용객수를 저장할 리스트\n",
    "\n",
    "for row in rows:\n",
    "    if len(max_rows) < 10: # 아직 10개의 데이터가 채워지지 않았다면\n",
    "        max_rows.append(row)\n",
    "        max_values.append( sum(row[4:-1]) )\n",
    "    else:\n",
    "        current_sum = sum(row[4:-1]) # 현재 행의 총 승하차 인원\n",
    "        min_value = min(max_values) # 상위 승하차 합계 인원 목록에서 최소값 찾기\n",
    "        if min_value < current_sum: # 현재 행의 승하차 합계 인원 위의 최소값보다 크다면 (->교체 필요)\n",
    "            min_index = max_values.index(min_value) # 기존 목록에서 최소값이 있는 위치 (교체 대상 위치)\n",
    "            max_values[min_index] = current_sum # 현재 총승객수를 교체 대상 위치에 적용\n",
    "            max_rows[min_index] = row # 현재 행을 최대값 행 목록의 교체 대상 위치에 적용\n",
    "\n",
    "for mr in max_rows:\n",
    "    print(mr[:4], sum(mr[4:-1]))"
   ]
  },
  {
   "cell_type": "code",
   "execution_count": null,
   "id": "b467cfe1",
   "metadata": {},
   "outputs": [],
   "source": []
  },
  {
   "cell_type": "code",
   "execution_count": null,
   "id": "2005d912",
   "metadata": {},
   "outputs": [
    {
     "name": "stdout",
     "output_type": "stream",
     "text": [
      "[3, 7, 11, 15, 19]\n",
      "[1, 3, 5, 7, 9]\n",
      "[3, 7, 11, 15, 19]\n",
      "[4, 5, 6, 7, 8, 9, 10, 11, 12, 13, 14, 15, 16, 17, 18, 19, 20, 21, 22, 23]\n",
      "[0, 1, 2, 3]\n",
      "[4, 5, 6, 7, 8, 9, 10, 11, 12, 13, 14, 15, 16, 17, 18, 19, 20, 21, 22, 23, 0, 1, 2, 3]\n"
     ]
    }
   ],
   "source": [
    "# 리스트에서 2칸씩 이동하면서 2개의 합을 더하는 코드 테스트\n",
    "a = [1, 2, 3, 4, 5, 6, 7, 8, 9, 10]\n",
    "b1 = []\n",
    "for i in range(0, len(a), 2): # 0, 2, 4, 6, 8 (위치번호)\n",
    "    b1.append(a[i] + a[i+1]) # a[0] + a[0+1], a[2] + a[2+1]\n",
    "print(b1)\n",
    "\n",
    "print(a[::2]) # slicing : 시작위치:끝위치:한번에이동할양\n",
    "\n",
    "b2 = [ a[i] + a[i+1] for i in range(0, len(a), 2) ] # 위 반복문을 comprehension 형식으로 변경\n",
    "print(b2)\n",
    "\n",
    "# 0 ~ 24로 되어 있는 시간 목록을 4부터 시작하는 목록으로 변경\n",
    "# 4 ~ 23, 0 ~ 3\n",
    "print( list(range(4, 24)) ) # 4 ~ 23 목록\n",
    "print( list(range(0, 4)) ) # 0 ~ 3 목록\n",
    "print( list(range(4, 24)) + list(range(0, 4)) ) # 두 목록을 하나의 목록으로 합치기\n"
   ]
  },
  {
   "cell_type": "code",
   "execution_count": 26,
   "id": "40b4a679",
   "metadata": {},
   "outputs": [
    {
     "name": "stdout",
     "output_type": "stream",
     "text": [
      "['2025-02', '2호선', '0232', '구로디지털단지', 228, 11, 33718, 4098, 47533, 18431, 128934, 77478, 173819, 220003, 105834, 132504, 64607, 55548, 58588, 43307, 66592, 48344, 66874, 61334, 61068, 58704, 65807, 63770, 78360, 77177, 130951, 103997, 199787, 154047, 97918, 126222, 61226, 82021, 50167, 78498, 38610, 74514, 18183, 42399, 3377, 13008, 2, 47, 0, 0, 0, 0, '2025-03-03 16:39:16']\n",
      "[4, 5, 6, 7, 8, 9, 10, 11, 12, 13, 14, 15, 16, 17, 18, 19, 20, 21, 22, 23, 0, 1, 2, 3]\n"
     ]
    },
    {
     "data": {
      "image/png": "[encoded data removed]",
      "text/plain": [
       "<Figure size 640x480 with 1 Axes>"
      ]
     },
     "metadata": {},
     "output_type": "display_data"
    }
   ],
   "source": [
    "# 특정 역의 각 시간대별 이용객수를 그래프로 표현 (영등포역으로 테스트)\n",
    "# 시간대별 이용객수 계산 : 각 시간의 (승차인원 + 하차인원)의 합 ( 각 행의 4번째 데이터 ~ 뒤에서 2번째 데이터 )\n",
    "#                       위의 반복문 테스트 코드 참고\n",
    "import csv \n",
    "\n",
    "rows = []\n",
    "with open('data-files/subway-data-2.csv', 'rt', encoding=\"utf-8\") as f:\n",
    "    reader = csv.reader(f)\n",
    "\n",
    "    for row in reader:\n",
    "        for i in range(4, len(row) - 1):\n",
    "            row[i] = int(row[i].replace(',', ''))\n",
    "        \n",
    "        rows.append(row)\n",
    "\n",
    "# --------------------------------------------------------------------------\n",
    "\n",
    "# 영등포역 데이터 찾기\n",
    "selected_row = None\n",
    "for row in rows:\n",
    "    if row[3] == '구로디지털단지':\n",
    "        selected_row = row\n",
    "        break\n",
    "\n",
    "if selected_row != None:\n",
    "    print(selected_row)\n",
    "else:\n",
    "    print(\"해당 역이 없습니다.\")\n",
    "\n",
    "# 시간대별 이용객수 계산 -> 리스트에 저장 1\n",
    "counts1 = []\n",
    "for i in range(4, len(row)-1, 2):\n",
    "    counts1.append(row[i] + row[i+1])\n",
    "    # counts1.append(row[i])\n",
    "\n",
    "# 시간대별 이용객수 계산 -> 리스트에 저장 2\n",
    "counts2 = [ row[i] + row[i+1] for i in range(4, len(row)-1, 2) ]\n",
    "# counts2 = [ row[i] for i in range(4, len(row)-1, 2) ]\n",
    "\n",
    "# 시간대별 이용객수를 막대그래프로 표시\n",
    "import matplotlib.pyplot as plt\n",
    "\n",
    "hours = list(range(4, 24)) + list(range(0, 4))\n",
    "print(hours)\n",
    "plt.bar(hours, counts2)\n",
    "plt.show()"
   ]
  }
 ],
 "metadata": {
  "kernelspec": {
   "display_name": "Python 3",
   "language": "python",
   "name": "python3"
  },
  "language_info": {
   "codemirror_mode": {
    "name": "ipython",
    "version": 3
   },
   "file_extension": ".py",
   "mimetype": "text/x-python",
   "name": "python",
   "nbconvert_exporter": "python",
   "pygments_lexer": "ipython3",
   "version": "3.11.9"
  }
 },
 "nbformat": 4,
 "nbformat_minor": 5
}
