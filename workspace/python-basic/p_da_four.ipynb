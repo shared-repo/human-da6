{
 "cells": [
  {
   "cell_type": "code",
   "execution_count": 2,
   "id": "773af96b",
   "metadata": {},
   "outputs": [
    {
     "data": {
      "text/plain": [
       "['2025-02', '1호선', '0150', '서울역', 587]"
      ]
     },
     "execution_count": 2,
     "metadata": {},
     "output_type": "execute_result"
    }
   ],
   "source": [
    "# subway-data-2.csv 파일의 데이터를 읽어서 리스트로 구성\n",
    "# csv 모듈 사용\n",
    "# 숫자는 숫자형으로 변경 ( 4번째 ~ 끝에서 2번째)\n",
    "# 주의 : 제목 행 없음\n",
    "\n",
    "import csv\n",
    "\n",
    "rows = []\n",
    "with open('data-files/subway-data-2.csv', 'rt', encoding=\"utf-8\") as f:\n",
    "    reader = csv.reader(f)\n",
    "\n",
    "    for row in reader:\n",
    "        for i in range(4, len(row) - 1):\n",
    "            row[i] = int(row[i].replace(',', ''))\n",
    "        \n",
    "        rows.append(row)\n",
    "\n",
    "rows[0][:5]"
   ]
  },
  {
   "cell_type": "code",
   "execution_count": null,
   "id": "bfea19c9",
   "metadata": {},
   "outputs": [
    {
     "data": {
      "text/plain": [
       "15"
      ]
     },
     "execution_count": 3,
     "metadata": {},
     "output_type": "execute_result"
    }
   ],
   "source": [
    "# 리스트에 포함된 모든 수치형 데이터의 합 계산\n",
    "a = [1, 2, 3, 4, 5]\n",
    "sum(a) # "
   ]
  },
  {
   "cell_type": "code",
   "execution_count": 10,
   "id": "3650b41e",
   "metadata": {},
   "outputs": [
    {
     "name": "stdout",
     "output_type": "stream",
     "text": [
      "['2025-02', '2호선', '0222', '강남'] 4484564\n",
      "['2025-02', '7호선', '2711', '장암'] 100565\n"
     ]
    }
   ],
   "source": [
    "# 이용객수가 가장 많은 지하철역 찾기\n",
    "# 이용객수 계산 : 모든 시간의 (승차인원 + 하차인원)의 합 ( 각 행의 4번째 데이터 ~ 뒤에서 2번째 데이터 )\n",
    "\n",
    "rows = []\n",
    "with open('data-files/subway-data-2.csv', 'rt', encoding=\"utf-8\") as f:\n",
    "    reader = csv.reader(f)\n",
    "\n",
    "    for row in reader:\n",
    "        for i in range(4, len(row) - 1):\n",
    "            row[i] = int(row[i].replace(',', ''))\n",
    "        \n",
    "        rows.append(row)\n",
    "\n",
    "# --------------------------------------------------------------------------\n",
    "\n",
    "max_row = rows[0]\n",
    "min_row = rows[0]\n",
    "\n",
    "for row in rows:\n",
    "    # print(row)\n",
    "    current_sum = sum(row[4:-1]) # 현재 행의 총 승하차 인원\n",
    "    # print(current_sum)\n",
    "    max_sum = sum(max_row[4:-1]) # 이전 행들 중 총 승하차 인원이 가장 많은 행의 인원\n",
    "    min_sum = sum(min_row[4:-1]) # 이전 행들 중 총 승하차 인원이 가장 적은 행의 인원\n",
    "\n",
    "    if max_sum < current_sum: # 현재 행의 총 승하차 인원이 이전의 최대 총 승하차 인원보다 많은 경우\n",
    "        max_row = row\n",
    "    if current_sum > 100000 and min_sum > current_sum: # 현재 행의 총 승하차 인원이 이전의 최소 총 승하차 인원보다 적은 경우\n",
    "        min_row = row\n",
    "\n",
    "print(max_row[:4], sum(max_row[4:-1]))\n",
    "print(min_row[:4], sum(min_row[4:-1]))\n",
    "    "
   ]
  },
  {
   "cell_type": "code",
   "execution_count": null,
   "id": "1890a696",
   "metadata": {},
   "outputs": [],
   "source": []
  },
  {
   "cell_type": "code",
   "execution_count": null,
   "id": "683f4552",
   "metadata": {},
   "outputs": [
    {
     "name": "stdout",
     "output_type": "stream",
     "text": [
      "1 5\n",
      "[1, 2, 3, 4, 5]\n",
      "[5, 4, 3, 2, 1]\n",
      "2\n",
      "4\n"
     ]
    }
   ],
   "source": [
    "a = [1, 5, 4, 2, 3]\n",
    "print( min(a), max(a) )\n",
    "a.sort()\n",
    "print( a )\n",
    "a.reverse()\n",
    "print( a )\n",
    "print(a.index(3)) # 3의 위치\n",
    "print(a.index( min(a) )) # 최소값의 위치"
   ]
  },
  {
   "cell_type": "code",
   "execution_count": 2,
   "id": "8a0edf51",
   "metadata": {},
   "outputs": [
    {
     "name": "stdout",
     "output_type": "stream",
     "text": [
      "['2025-02', '1호선', '0150', '서울역'] 3701324\n",
      "['2025-02', '2호선', '0221', '역삼'] 2858082\n",
      "['2025-02', '2호선', '0232', '구로디지털단지'] 3087645\n",
      "['2025-02', '2호선', '0216', '잠실(송파구청)'] 4382988\n",
      "['2025-02', '2호선', '0230', '신림'] 2983763\n",
      "['2025-02', '2호선', '0234', '신도림'] 2785625\n",
      "['2025-02', '2호선', '0222', '강남'] 4484564\n",
      "['2025-02', '2호선', '0219', '삼성(무역센터)'] 2934134\n",
      "['2025-02', '2호선', '0239', '홍대입구'] 4257873\n",
      "['2025-02', '2호선', '0220', '선릉'] 2859695\n"
     ]
    }
   ],
   "source": [
    "# 이용객수가 많은 상위 10개 지하철역 찾기\n",
    "# 이용객수 계산 : 모든 시간의 (승차인원 + 하차인원)의 합 ( 각 행의 4번째 데이터 ~ 뒤에서 2번째 데이터 )\n",
    "import csv \n",
    "\n",
    "rows = []\n",
    "with open('data-files/subway-data-2.csv', 'rt', encoding=\"utf-8\") as f:\n",
    "    reader = csv.reader(f)\n",
    "\n",
    "    for row in reader:\n",
    "        for i in range(4, len(row) - 1):\n",
    "            row[i] = int(row[i].replace(',', ''))\n",
    "        \n",
    "        rows.append(row)\n",
    "\n",
    "# --------------------------------------------------------------------------\n",
    "\n",
    "max_rows = [ ] # 이용객수가 많은 행 저장할 리스트\n",
    "max_values = [ ] # 이용객수가 많은 행의 이용객수를 저장할 리스트\n",
    "\n",
    "for row in rows:\n",
    "    if len(max_rows) < 10: # 아직 10개의 데이터가 채워지지 않았다면\n",
    "        max_rows.append(row)\n",
    "        max_values.append( sum(row[4:-1]) )\n",
    "    else:\n",
    "        current_sum = sum(row[4:-1]) # 현재 행의 총 승하차 인원\n",
    "        min_value = min(max_values) # 상위 승하차 합계 인원 목록에서 최소값 찾기\n",
    "        if min_value < current_sum: # 현재 행의 승하차 합계 인원 위의 최소값보다 크다면 (->교체 필요)\n",
    "            min_index = max_values.index(min_value) # 기존 목록에서 최소값이 있는 위치 (교체 대상 위치)\n",
    "            max_values[min_index] = current_sum # 현재 총승객수를 교체 대상 위치에 적용\n",
    "            max_rows[min_index] = row # 현재 행을 최대값 행 목록의 교체 대상 위치에 적용\n",
    "\n",
    "for mr in max_rows:\n",
    "    print(mr[:4], sum(mr[4:-1]))"
   ]
  },
  {
   "cell_type": "code",
   "execution_count": null,
   "id": "b467cfe1",
   "metadata": {},
   "outputs": [],
   "source": []
  },
  {
   "cell_type": "code",
   "execution_count": null,
   "id": "2005d912",
   "metadata": {},
   "outputs": [
    {
     "name": "stdout",
     "output_type": "stream",
     "text": [
      "0 1 3\n",
      "2 3 7\n",
      "4 5 11\n",
      "6 7 15\n",
      "8 9 19\n"
     ]
    }
   ],
   "source": [
    "# 리스트에서 2칸씩 이동하면서 2개의 합을 더하는 코드 테스트\n",
    "a = [1, 2, 3, 4, 5, 6, 7, 8, 9, 10]\n",
    "for i in range(0, len(a), 2): # 0, 2, 4, 6, 8\n",
    "    print(i, a[i], a[i] + a[i+1]) # a[0] + a[0+1], a[2] + a[2+1]"
   ]
  }
 ],
 "metadata": {
  "kernelspec": {
   "display_name": "Python 3",
   "language": "python",
   "name": "python3"
  },
  "language_info": {
   "codemirror_mode": {
    "name": "ipython",
    "version": 3
   },
   "file_extension": ".py",
   "mimetype": "text/x-python",
   "name": "python",
   "nbconvert_exporter": "python",
   "pygments_lexer": "ipython3",
   "version": "3.11.9"
  }
 },
 "nbformat": 4,
 "nbformat_minor": 5
}
