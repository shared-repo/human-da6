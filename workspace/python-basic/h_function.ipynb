{
 "cells": [
  {
   "cell_type": "code",
   "execution_count": 6,
   "id": "137cfd07",
   "metadata": {},
   "outputs": [],
   "source": [
    "# 함수 정의, 함수 선언\n",
    "def greetings():\n",
    "    print(\"Hello, Function !!!!!\")\n",
    "    print(\"이 코드는 greetings 함수에서 실행됩니다.\")"
   ]
  },
  {
   "cell_type": "code",
   "execution_count": 7,
   "id": "008e7af4",
   "metadata": {},
   "outputs": [
    {
     "name": "stdout",
     "output_type": "stream",
     "text": [
      "Hello, Function !!!!!\n",
      "이 코드는 greetings 함수에서 실행됩니다.\n",
      "Hello, Function !!!!!\n",
      "이 코드는 greetings 함수에서 실행됩니다.\n",
      "Hello, Function !!!!!\n",
      "이 코드는 greetings 함수에서 실행됩니다.\n"
     ]
    }
   ],
   "source": [
    "# 함수 호출 -> 정의된 함수를 불러서 실행\n",
    "greetings()\n",
    "greetings()\n",
    "greetings()"
   ]
  },
  {
   "cell_type": "code",
   "execution_count": 11,
   "id": "0a406c7b",
   "metadata": {},
   "outputs": [],
   "source": [
    "# 함수 선언, 함수 정의\n",
    "def draw_box():\n",
    "    for y in range(10):\n",
    "        for x in range(20):\n",
    "            if x == 0 or x == 19 or y == 0 or y == 9:\n",
    "                print(\"*\", end=\"\")\n",
    "            else:\n",
    "                print(\" \", end=\"\")\n",
    "        print()"
   ]
  },
  {
   "cell_type": "code",
   "execution_count": 12,
   "id": "49a64291",
   "metadata": {},
   "outputs": [
    {
     "name": "stdout",
     "output_type": "stream",
     "text": [
      "********************\n",
      "*                  *\n",
      "*                  *\n",
      "*                  *\n",
      "*                  *\n",
      "*                  *\n",
      "*                  *\n",
      "*                  *\n",
      "*                  *\n",
      "********************\n"
     ]
    }
   ],
   "source": [
    "#함수 호출\n",
    "draw_box()"
   ]
  },
  {
   "cell_type": "code",
   "execution_count": null,
   "id": "23918022",
   "metadata": {},
   "outputs": [],
   "source": [
    "# 함수 선언, 함수 정의\n",
    "def draw_box2(width, height, c): # 호출한 곳에서 전달한 데이터를 width, height에 저장\n",
    "    for y in range(height):\n",
    "        for x in range(width):\n",
    "            if x == 0 or x == width-1 or y == 0 or y == height-1:\n",
    "                print(c, end=\"\")\n",
    "            else:\n",
    "                print(\" \", end=\"\")\n",
    "        print()"
   ]
  },
  {
   "cell_type": "code",
   "execution_count": null,
   "id": "2511d1d0",
   "metadata": {},
   "outputs": [
    {
     "name": "stdout",
     "output_type": "stream",
     "text": [
      "* * * * * * * * * * \n",
      "*                 * \n",
      "*                 * \n",
      "*                 * \n",
      "* * * * * * * * * * \n"
     ]
    }
   ],
   "source": [
    "w = int( input(\"박스 너비\") )\n",
    "h = int( input(\"박스 높이\") )\n",
    "c = input(\"박스 그리기에 사용할 문자\")\n",
    "draw_box2(w, h, c) # draw_box2 함수에게 w, h를 전달"
   ]
  },
  {
   "cell_type": "code",
   "execution_count": null,
   "id": "795b2b55",
   "metadata": {},
   "outputs": [
    {
     "name": "stdout",
     "output_type": "stream",
     "text": [
      "**********\n",
      "*        *\n",
      "*        *\n",
      "*        *\n",
      "**********\n"
     ]
    }
   ],
   "source": [
    "draw_box2(c=c, height=h, width=w) # 명명된 파라미터 : 어떤 전달인자에게 어떤 데이터를 보낼지 이름으로 지정"
   ]
  },
  {
   "cell_type": "code",
   "execution_count": null,
   "id": "cfa402d9",
   "metadata": {},
   "outputs": [
    {
     "name": "stdout",
     "output_type": "stream",
     "text": [
      "hello hi\n"
     ]
    }
   ],
   "source": [
    "print('hello', end=' ')\n",
    "print('hi')"
   ]
  },
  {
   "cell_type": "code",
   "execution_count": 21,
   "id": "fa62b9f1",
   "metadata": {},
   "outputs": [],
   "source": [
    "# 함수 선언, 함수 정의\n",
    "def draw_box3(width=20, height=10, c='*'): # 전달인자의 기본값 (호출할 때 값을 전달하면 그 값 사용, 전달하지 않으면 기본값 사용)\n",
    "    for y in range(height):\n",
    "        for x in range(width):\n",
    "            if x == 0 or x == width-1 or y == 0 or y == height-1:\n",
    "                print(c, end=\"\")\n",
    "            else:\n",
    "                print(\" \", end=\"\")\n",
    "        print()"
   ]
  },
  {
   "cell_type": "code",
   "execution_count": 26,
   "id": "1295f802",
   "metadata": {},
   "outputs": [
    {
     "name": "stdout",
     "output_type": "stream",
     "text": [
      "@@@@@@@@@@@@@@@@@@@@\n",
      "@                  @\n",
      "@                  @\n",
      "@                  @\n",
      "@                  @\n",
      "@                  @\n",
      "@                  @\n",
      "@                  @\n",
      "@                  @\n",
      "@@@@@@@@@@@@@@@@@@@@\n"
     ]
    }
   ],
   "source": [
    "# draw_box2() # 오류 : 전달인자 전달하지 않으면 오류\n",
    "# draw_box3() # 기본값이 지정된 전달인자는 생략 가능\n",
    "\n",
    "# draw_box3(\"@\") # 너비와 높이는 기본 값 사용 문자만 '@' 사용 --> 오류 : 이름을 지정하지 않으면 순서대로 전달\n",
    "draw_box3(c=\"@\") # 너비와 높이는 기본 값 사용 문자만 '@' 사용 --> 명명된 전달인자 사용"
   ]
  }
 ],
 "metadata": {
  "kernelspec": {
   "display_name": "Python 3",
   "language": "python",
   "name": "python3"
  },
  "language_info": {
   "codemirror_mode": {
    "name": "ipython",
    "version": 3
   },
   "file_extension": ".py",
   "mimetype": "text/x-python",
   "name": "python",
   "nbconvert_exporter": "python",
   "pygments_lexer": "ipython3",
   "version": "3.11.9"
  }
 },
 "nbformat": 4,
 "nbformat_minor": 5
}
