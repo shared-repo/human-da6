{
 "cells": [
  {
   "cell_type": "code",
   "execution_count": 6,
   "id": "137cfd07",
   "metadata": {},
   "outputs": [],
   "source": [
    "# 함수 정의, 함수 선언\n",
    "def greetings():\n",
    "    print(\"Hello, Function !!!!!\")\n",
    "    print(\"이 코드는 greetings 함수에서 실행됩니다.\")"
   ]
  },
  {
   "cell_type": "code",
   "execution_count": 7,
   "id": "008e7af4",
   "metadata": {},
   "outputs": [
    {
     "name": "stdout",
     "output_type": "stream",
     "text": [
      "Hello, Function !!!!!\n",
      "이 코드는 greetings 함수에서 실행됩니다.\n",
      "Hello, Function !!!!!\n",
      "이 코드는 greetings 함수에서 실행됩니다.\n",
      "Hello, Function !!!!!\n",
      "이 코드는 greetings 함수에서 실행됩니다.\n"
     ]
    }
   ],
   "source": [
    "# 함수 호출 -> 정의된 함수를 불러서 실행\n",
    "greetings()\n",
    "greetings()\n",
    "greetings()"
   ]
  },
  {
   "cell_type": "code",
   "execution_count": 11,
   "id": "0a406c7b",
   "metadata": {},
   "outputs": [],
   "source": [
    "# 함수 선언, 함수 정의\n",
    "def draw_box():\n",
    "    for y in range(10):\n",
    "        for x in range(20):\n",
    "            if x == 0 or x == 19 or y == 0 or y == 9:\n",
    "                print(\"*\", end=\"\")\n",
    "            else:\n",
    "                print(\" \", end=\"\")\n",
    "        print()"
   ]
  },
  {
   "cell_type": "code",
   "execution_count": 12,
   "id": "49a64291",
   "metadata": {},
   "outputs": [
    {
     "name": "stdout",
     "output_type": "stream",
     "text": [
      "********************\n",
      "*                  *\n",
      "*                  *\n",
      "*                  *\n",
      "*                  *\n",
      "*                  *\n",
      "*                  *\n",
      "*                  *\n",
      "*                  *\n",
      "********************\n"
     ]
    }
   ],
   "source": [
    "#함수 호출\n",
    "draw_box()"
   ]
  },
  {
   "cell_type": "code",
   "execution_count": null,
   "id": "23918022",
   "metadata": {},
   "outputs": [],
   "source": [
    "# 함수 선언, 함수 정의\n",
    "def draw_box2(width, height, c): # 호출한 곳에서 전달한 데이터를 width, height에 저장\n",
    "    for y in range(height):\n",
    "        for x in range(width):\n",
    "            if x == 0 or x == width-1 or y == 0 or y == height-1:\n",
    "                print(c, end=\"\")\n",
    "            else:\n",
    "                print(\" \", end=\"\")\n",
    "        print()"
   ]
  },
  {
   "cell_type": "code",
   "execution_count": null,
   "id": "2511d1d0",
   "metadata": {},
   "outputs": [
    {
     "name": "stdout",
     "output_type": "stream",
     "text": [
      "* * * * * * * * * * \n",
      "*                 * \n",
      "*                 * \n",
      "*                 * \n",
      "* * * * * * * * * * \n"
     ]
    }
   ],
   "source": [
    "w = int( input(\"박스 너비\") )\n",
    "h = int( input(\"박스 높이\") )\n",
    "c = input(\"박스 그리기에 사용할 문자\")\n",
    "draw_box2(w, h, c) # draw_box2 함수에게 w, h를 전달"
   ]
  },
  {
   "cell_type": "code",
   "execution_count": null,
   "id": "795b2b55",
   "metadata": {},
   "outputs": [
    {
     "name": "stdout",
     "output_type": "stream",
     "text": [
      "**********\n",
      "*        *\n",
      "*        *\n",
      "*        *\n",
      "**********\n"
     ]
    }
   ],
   "source": [
    "draw_box2(c=c, height=h, width=w) # 명명된 파라미터 : 어떤 전달인자에게 어떤 데이터를 보낼지 이름으로 지정"
   ]
  },
  {
   "cell_type": "code",
   "execution_count": null,
   "id": "cfa402d9",
   "metadata": {},
   "outputs": [
    {
     "name": "stdout",
     "output_type": "stream",
     "text": [
      "hello hi\n"
     ]
    }
   ],
   "source": [
    "print('hello', end=' ')\n",
    "print('hi')"
   ]
  },
  {
   "cell_type": "code",
   "execution_count": 21,
   "id": "fa62b9f1",
   "metadata": {},
   "outputs": [],
   "source": [
    "# 함수 선언, 함수 정의\n",
    "def draw_box3(width=20, height=10, c='*'): # 전달인자의 기본값 (호출할 때 값을 전달하면 그 값 사용, 전달하지 않으면 기본값 사용)\n",
    "    for y in range(height):\n",
    "        for x in range(width):\n",
    "            if x == 0 or x == width-1 or y == 0 or y == height-1:\n",
    "                print(c, end=\"\")\n",
    "            else:\n",
    "                print(\" \", end=\"\")\n",
    "        print()"
   ]
  },
  {
   "cell_type": "code",
   "execution_count": 26,
   "id": "1295f802",
   "metadata": {},
   "outputs": [
    {
     "name": "stdout",
     "output_type": "stream",
     "text": [
      "@@@@@@@@@@@@@@@@@@@@\n",
      "@                  @\n",
      "@                  @\n",
      "@                  @\n",
      "@                  @\n",
      "@                  @\n",
      "@                  @\n",
      "@                  @\n",
      "@                  @\n",
      "@@@@@@@@@@@@@@@@@@@@\n"
     ]
    }
   ],
   "source": [
    "# draw_box2() # 오류 : 전달인자 전달하지 않으면 오류\n",
    "# draw_box3() # 기본값이 지정된 전달인자는 생략 가능\n",
    "\n",
    "# draw_box3(\"@\") # 너비와 높이는 기본 값 사용 문자만 '@' 사용 --> 오류 : 이름을 지정하지 않으면 순서대로 전달\n",
    "draw_box3(c=\"@\") # 너비와 높이는 기본 값 사용 문자만 '@' 사용 --> 명명된 전달인자 사용"
   ]
  },
  {
   "cell_type": "code",
   "execution_count": null,
   "id": "55c2110f",
   "metadata": {},
   "outputs": [],
   "source": []
  },
  {
   "cell_type": "code",
   "execution_count": 2,
   "id": "4d3e294a",
   "metadata": {},
   "outputs": [],
   "source": [
    "def add(a, b):\n",
    "    r = a + b\n",
    "\n",
    "add(10, 20)\n",
    "# print(r) # 오류 : 함수 내부에서 만들어진 변수는 함수 내부에서만 사용 가능"
   ]
  },
  {
   "cell_type": "code",
   "execution_count": 3,
   "id": "ddcf2fc0",
   "metadata": {},
   "outputs": [
    {
     "name": "stdout",
     "output_type": "stream",
     "text": [
      "30\n"
     ]
    }
   ],
   "source": [
    "def add(a, b):\n",
    "    r = a + b\n",
    "    return r # r을 함수를 호출한 곳으로 반환\n",
    "\n",
    "r2 = add(10, 20)\n",
    "print(r2)"
   ]
  },
  {
   "cell_type": "code",
   "execution_count": null,
   "id": "a46b26bc",
   "metadata": {},
   "outputs": [
    {
     "name": "stdout",
     "output_type": "stream",
     "text": [
      "30 200\n",
      "30 200\n",
      "30 200\n",
      "(30, 200)\n"
     ]
    }
   ],
   "source": [
    "def add_and_mul(a, b):\n",
    "    r1 = a + b\n",
    "    r2 = a * b\n",
    "    return r1, r2 # == return (r1, r2) # r1과 r2를 묶어서 tuple로 변환한 후 반환\n",
    "\n",
    "x, y = 30, 200       # 1\n",
    "x, y = (30, 200)     # 2\n",
    "(x, y) = 30, 200     # 3\n",
    "(x, y) = (30, 200)   # 4\n",
    "xy = (30, 200) # xy[0], xy[1]    # 5\n",
    "\n",
    "a, m =           add_and_mul(10, 20) # 반환된 tuple을 개별 값으로 해체해서 사용 ( 위의 x, y 사례 중 #2 참고 )\n",
    "print(a, m)\n",
    "\n",
    "(a2, m2) = add_and_mul(10, 20) # 반환된 tuple을 개별 값으로 해체해서 사용 ( 위의 x, y 사례 중 #4 참고 )\n",
    "print(a2, m2)\n",
    "\n",
    "rr = add_and_mul(10, 20) # 반환된 tuple을 tuple 변수에 받아서 사용 ( 위의 x, y 사례 중 #5 참고 )\n",
    "print(rr[0],rr[1])\n",
    "print(rr)"
   ]
  },
  {
   "cell_type": "code",
   "execution_count": 13,
   "id": "3b2a6ed8",
   "metadata": {},
   "outputs": [
    {
     "data": {
      "text/plain": [
       "(30, 60)"
      ]
     },
     "execution_count": 13,
     "metadata": {},
     "output_type": "execute_result"
    }
   ],
   "source": [
    "def add2(n1, n2):\n",
    "    return n1 + n2\n",
    "\n",
    "def add3(n1, n2, n3):\n",
    "    return n1 + n2 + n3\n",
    "\n",
    "add2(10, 20), add3(10, 20, 30)"
   ]
  },
  {
   "cell_type": "code",
   "execution_count": 15,
   "id": "bb8c0e99",
   "metadata": {},
   "outputs": [
    {
     "name": "stdout",
     "output_type": "stream",
     "text": [
      "<class 'tuple'>\n",
      "<class 'tuple'>\n",
      "<class 'tuple'>\n"
     ]
    },
    {
     "data": {
      "text/plain": [
       "(30, 60, 280)"
      ]
     },
     "execution_count": 15,
     "metadata": {},
     "output_type": "execute_result"
    }
   ],
   "source": [
    "def add(*args): # *args : 가변인자배열 -> 전달인자의 갯수와 관계 없이 모든 전딜인자를 튜플로 묶어서 전달\n",
    "    print(type(args))\n",
    "    return sum(args)\n",
    "\n",
    "add(10, 20), add(10, 20, 30), add(10, 20, 30, 40, 50, 60, 70)"
   ]
  },
  {
   "cell_type": "code",
   "execution_count": null,
   "id": "459dc73c",
   "metadata": {},
   "outputs": [],
   "source": []
  }
 ],
 "metadata": {
  "kernelspec": {
   "display_name": "Python 3",
   "language": "python",
   "name": "python3"
  },
  "language_info": {
   "codemirror_mode": {
    "name": "ipython",
    "version": 3
   },
   "file_extension": ".py",
   "mimetype": "text/x-python",
   "name": "python",
   "nbconvert_exporter": "python",
   "pygments_lexer": "ipython3",
   "version": "3.11.9"
  }
 },
 "nbformat": 4,
 "nbformat_minor": 5
}
