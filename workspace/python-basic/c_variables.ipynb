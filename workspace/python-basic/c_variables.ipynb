{
 "cells": [
  {
   "cell_type": "code",
   "execution_count": 2,
   "id": "b490dfc6",
   "metadata": {},
   "outputs": [],
   "source": [
    "# 변수 만들기 + 데이터 저장\n",
    "a = 10      # 정수형\n",
    "b = 11.11   # 부동소수점형\n",
    "c = 'hello' # 문자형\n",
    "d = True    # Boolean : True / False\n",
    "e = None    # 존재하지 않는 값"
   ]
  },
  {
   "cell_type": "code",
   "execution_count": null,
   "id": "2ba99358",
   "metadata": {},
   "outputs": [
    {
     "name": "stdout",
     "output_type": "stream",
     "text": [
      "10\n",
      "11.11\n",
      "hello\n",
      "True\n",
      "None\n"
     ]
    }
   ],
   "source": [
    "# 변수에 저장된 값 읽기\n",
    "print(a) # a 변수에 저장된 값 읽기 + 출력(print)\n",
    "print(b)\n",
    "print(c)\n",
    "print(d)\n",
    "print(e)"
   ]
  },
  {
   "cell_type": "code",
   "execution_count": null,
   "id": "cf0add5b",
   "metadata": {},
   "outputs": [
    {
     "name": "stdout",
     "output_type": "stream",
     "text": [
      "<class 'int'>\n",
      "<class 'float'>\n",
      "<class 'str'>\n",
      "<class 'bool'>\n",
      "<class 'NoneType'>\n"
     ]
    }
   ],
   "source": [
    "# 각 변수의 자료형 확인\n",
    "print(type(a)) # type은 변수 또는 데이터의 자료형을 확인하는 명령(함수)\n",
    "print(type(b))\n",
    "print(type(c))\n",
    "print(type(d))\n",
    "print(type(e))"
   ]
  },
  {
   "cell_type": "code",
   "execution_count": null,
   "id": "345103c2",
   "metadata": {},
   "outputs": [
    {
     "name": "stdout",
     "output_type": "stream",
     "text": [
      "True\n",
      "True\n"
     ]
    }
   ],
   "source": [
    "a = 3 # a는 3이 저장된 변수 (객체)\n",
    "b = 3 # b는 3이 저장된 변수 (객체)\n",
    "\n",
    "print( a == b ) # a와 b가 같은지 비교\n",
    "print( a is b ) # a와 b가 같은지 비교"
   ]
  },
  {
   "cell_type": "code",
   "execution_count": null,
   "id": "788ef601",
   "metadata": {},
   "outputs": [
    {
     "data": {
      "text/plain": [
       "(100, 123.456, 'hello')"
      ]
     },
     "execution_count": 11,
     "metadata": {},
     "output_type": "execute_result"
    }
   ],
   "source": [
    "# 한 번에 여러 개의 값을 여러 변수에 저장\n",
    "\n",
    "a, b, c = 100, 123.456, 'hello'\n",
    "# a, b, c = 100, 123.456, 'hello', True # 오류 :  변수의 갯수와 값의 갯수가 같아야 합니다.\n",
    "\n",
    "a, b, c # 노트북에서 마지막 실행문은 출력문 ( print를 쓰지 않아도 출력됨 )"
   ]
  },
  {
   "cell_type": "code",
   "execution_count": 13,
   "id": "080a07f3",
   "metadata": {},
   "outputs": [
    {
     "name": "stdout",
     "output_type": "stream",
     "text": [
      "10\n"
     ]
    }
   ],
   "source": [
    "# 변수 제거\n",
    "\n",
    "a = 10\n",
    "print (a)\n",
    "del a       # 변수 제거\n",
    "# print (a)   # 오류: 제거된 변수는 사용할 수 없습니다."
   ]
  },
  {
   "cell_type": "code",
   "execution_count": 16,
   "id": "c76d85f2",
   "metadata": {},
   "outputs": [
    {
     "name": "stdout",
     "output_type": "stream",
     "text": [
      "255 31\n",
      "42400000000.0 424.0\n"
     ]
    }
   ],
   "source": [
    "# 16진수 표현\n",
    "\n",
    "a = 0xFF\n",
    "b = 0x1F\n",
    "print(a, b)\n",
    "\n",
    "# 지수표기법\n",
    "c = 4.24E10\n",
    "d = 4.24E2\n",
    "print(c, d)"
   ]
  },
  {
   "cell_type": "code",
   "execution_count": null,
   "id": "5b661585",
   "metadata": {},
   "outputs": [
    {
     "name": "stdout",
     "output_type": "stream",
     "text": [
      "11 200\n",
      "100 100.0 12.12\n",
      "1010\n",
      "20\n"
     ]
    }
   ],
   "source": [
    "a = 11.11\n",
    "b = 100\n",
    "c = \"12.12\"\n",
    "d = \"200\"\n",
    "\n",
    "print(int(a), int(d))\n",
    "print(b, float(b), float(c))\n",
    "\n",
    "print('10' + '10') # 문자열이기 때문에 연결\n",
    "print(int('10') + int('10')) # 숫자로 변경되었기 때문에 정수 연산"
   ]
  },
  {
   "cell_type": "code",
   "execution_count": null,
   "id": "e6d1448b",
   "metadata": {},
   "outputs": [
    {
     "name": "stdout",
     "output_type": "stream",
     "text": [
      "hello, John Doe\n",
      "hellohellohellohellohello\n"
     ]
    }
   ],
   "source": [
    "# 문자열 연산\n",
    "\n",
    "greetings = \"hello, \" + 'John Doe'\n",
    "print(greetings)\n",
    "\n",
    "iter = 'hello' * 5 # 문자열의 곱은 반복\n",
    "print(iter)"
   ]
  },
  {
   "cell_type": "code",
   "execution_count": null,
   "id": "77e597cb",
   "metadata": {},
   "outputs": [
    {
     "data": {
      "text/plain": [
       "('e', 'L', 's', 'n')"
      ]
     },
     "execution_count": 3,
     "metadata": {},
     "output_type": "execute_result"
    }
   ],
   "source": [
    "# 문자열 인덱싱\n",
    "a = \"Life is too short, You need Python\"\n",
    "a[3], a[0], a[12], a[-1]"
   ]
  },
  {
   "cell_type": "code",
   "execution_count": null,
   "id": "f5303d65",
   "metadata": {},
   "outputs": [
    {
     "name": "stdout",
     "output_type": "stream",
     "text": [
      "short\n",
      "Life is too short, You need Python\n"
     ]
    }
   ],
   "source": [
    "# 문자열 슬라이싱\n",
    "a = \"Life is too short, You need Python\"\n",
    "\n",
    "print( a[12:17] )\n",
    "print( a[:] )"
   ]
  },
  {
   "cell_type": "code",
   "execution_count": null,
   "id": "0cfb40c2",
   "metadata": {},
   "outputs": [
    {
     "name": "stdout",
     "output_type": "stream",
     "text": [
      "34\n",
      "Life is too short, You need Python\n"
     ]
    }
   ],
   "source": [
    "print( len(a) ) # len : 문자갯수 반환\n",
    "print(a[0:len(a)])"
   ]
  }
 ],
 "metadata": {
  "kernelspec": {
   "display_name": "Python 3",
   "language": "python",
   "name": "python3"
  },
  "language_info": {
   "codemirror_mode": {
    "name": "ipython",
    "version": 3
   },
   "file_extension": ".py",
   "mimetype": "text/x-python",
   "name": "python",
   "nbconvert_exporter": "python",
   "pygments_lexer": "ipython3",
   "version": "3.11.9"
  }
 },
 "nbformat": 4,
 "nbformat_minor": 5
}
