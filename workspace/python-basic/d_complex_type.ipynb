{
 "cells": [
  {
   "cell_type": "code",
   "execution_count": 14,
   "id": "1b4bb2d6",
   "metadata": {},
   "outputs": [],
   "source": [
    "# 리스트 만들기\n",
    "\n",
    "l = [] # list()\n",
    "l2 = [1, 2, 3, 4, 5, 6, 7, 8, 9, 10]\n",
    "l3 = [10, 20, 30, [40, 50, 60], 70, 80, 90] # 리스트 내부의 리스트는 1개의 데이터로 처리"
   ]
  },
  {
   "cell_type": "code",
   "execution_count": 15,
   "id": "e422bac9",
   "metadata": {},
   "outputs": [
    {
     "name": "stdout",
     "output_type": "stream",
     "text": [
      "6\n",
      "8\n",
      "70\n",
      "50\n"
     ]
    }
   ],
   "source": [
    "# list indexing \n",
    "\n",
    "print( l2[5] )\n",
    "print( l2[-3] )\n",
    "print( l3[4])       # [40, 50, 60]은 한 개의 데이터로 처리 되기 때문에 70이 출력됨\n",
    "print( l3[3][1])"
   ]
  },
  {
   "cell_type": "code",
   "execution_count": 16,
   "id": "49a5f6ef",
   "metadata": {},
   "outputs": [
    {
     "name": "stdout",
     "output_type": "stream",
     "text": [
      "[4, 5, 6, 7]\n",
      "[4, 5, 6, 7, 8, 9, 10]\n",
      "[1, 2, 3, 4, 5, 6, 7]\n"
     ]
    }
   ],
   "source": [
    "# list slicing\n",
    "\n",
    "print( l2[3:7] )\n",
    "print( l2[3:] )\n",
    "print( l2[:7] )"
   ]
  },
  {
   "cell_type": "code",
   "execution_count": 17,
   "id": "4b0cb7a3",
   "metadata": {},
   "outputs": [
    {
     "name": "stdout",
     "output_type": "stream",
     "text": [
      "[1, 2, 3, 4, 5, 6, 7, 8, 9, 10, 10, 20, 30, [40, 50, 60], 70, 80, 90]\n",
      "[1, 2, 3, 4, 5, 6, 7, 8, 9, 10, 1, 2, 3, 4, 5, 6, 7, 8, 9, 10]\n"
     ]
    }
   ],
   "source": [
    "# 리스트 연산\n",
    "\n",
    "print( l2 + l3 ) # 두 리스트의 합은 두 리스트를 결합한 새 리스트 생성\n",
    "\n",
    "print( l2 * 2 ) # 리스트와 스칼라 값의 곱은 리스트의 반복"
   ]
  },
  {
   "cell_type": "code",
   "execution_count": 25,
   "id": "62ade8d3",
   "metadata": {},
   "outputs": [
    {
     "name": "stdout",
     "output_type": "stream",
     "text": [
      "[1, 2, 3, 4, 5, 6, 7, 8, 9, 10]\n",
      "[1, 2, 3, 4, 5, 100, 7, 8, 9, 10]\n",
      "[1, 2, 3, 4, 5, 100, 10, 20, 30, 40, 50, 9, 10]\n"
     ]
    }
   ],
   "source": [
    "# 리스트 값 변경\n",
    "\n",
    "l4 = l2.copy() # l2를 복사해서 l4 만들기\n",
    "\n",
    "print( l4 )\n",
    "\n",
    "l4[5] = 100 # 단일 값 변경\n",
    "print( l4 )\n",
    "\n",
    "l4[6:8] = [10, 20, 30, 40, 50] # 다중 값 변경 : [7, 8]을 [10, 20, 30, 40, 50]으로 변경\n",
    "print( l4 )"
   ]
  },
  {
   "cell_type": "code",
   "execution_count": null,
   "id": "0641c30d",
   "metadata": {},
   "outputs": [
    {
     "name": "stdout",
     "output_type": "stream",
     "text": [
      "[1, 2, 3, 4, 5, 7, 8, 9, 10]\n",
      "[1, 2, 3, 7, 8, 9, 10]\n"
     ]
    }
   ],
   "source": [
    "# 리스트의 요소 제거 (삭제)\n",
    "l5 = l2.copy()\n",
    "\n",
    "del l5[5] # 5번 위치의 데이터 삭제\n",
    "print(l5)\n",
    "\n",
    "l5[3:5] = [] # 3, 4번 위치의 데이터 삭제\n",
    "print(l5)"
   ]
  },
  {
   "cell_type": "code",
   "execution_count": 35,
   "id": "ed6df14c",
   "metadata": {},
   "outputs": [
    {
     "name": "stdout",
     "output_type": "stream",
     "text": [
      "[1, 2, 3, 4]\n",
      "[1, 10, 2, 3, 4]\n",
      "[10, 4, 3, 2, 1]\n",
      "[1, 2, 3, 4, 10]\n",
      "[1, 2, 4, 10]\n",
      "[1, 2, 4, 10, 9, 8, 7]\n",
      "[1, 2, 4, 10, 9, 8, 7]\n"
     ]
    }
   ],
   "source": [
    "a = [1, 2, 3]\n",
    "a.append(4) # 목록 뒤에 값 추가\n",
    "print( a )\n",
    "\n",
    "a.insert(1, 10) # 1번째 위치에 10 추가\n",
    "print(a)\n",
    "\n",
    "# a.sort() # 리스트를 오름차순 정렬\n",
    "a.sort(reverse=True) # 리스트를 내림차순 정렬\n",
    "print(a)\n",
    "\n",
    "a.reverse() # 리스트 요소의 위치를 역순으로 변경\n",
    "print(a)\n",
    "\n",
    "a.remove(3)\n",
    "print(a)\n",
    "\n",
    "print(a + [9, 8, 7]) # a에는 변화가 없습니다. (적용된 새로운 리스트 생성)\n",
    "\n",
    "a.extend([9, 8, 7]) # a를 변경합니다. (결과가 a에 적용됨)\n",
    "print(a)\n"
   ]
  },
  {
   "cell_type": "code",
   "execution_count": null,
   "id": "9606bd29",
   "metadata": {},
   "outputs": [],
   "source": [
    "1 * (3 + 10)"
   ]
  },
  {
   "cell_type": "code",
   "execution_count": null,
   "id": "1a2e042b",
   "metadata": {},
   "outputs": [
    {
     "name": "stdout",
     "output_type": "stream",
     "text": [
      "() <class 'tuple'>\n",
      "(1,) <class 'tuple'>\n",
      "(1, 2, 3) <class 'tuple'>\n"
     ]
    }
   ],
   "source": [
    "# 튜플 만들기\n",
    "\n",
    "t1 = () # 요소가 없는 튜플 만들기\n",
    "print(t1, type(t1))\n",
    "\n",
    "# t2 = (1) # 이 괄호는 연산자 우선순위로 해석\n",
    "t2 = (1, ) # 이 괄호는 튜플로 해석\n",
    "print(t2, type(t2))\n",
    "\n",
    "t3 = (1, 2, 3)\n",
    "print(t3, type(t3))"
   ]
  },
  {
   "cell_type": "code",
   "execution_count": 42,
   "id": "f1d1db8f",
   "metadata": {},
   "outputs": [],
   "source": [
    "# 튜플은 읽기 전용\n",
    "\n",
    "t4 = (1, 2, 3, 4, 5)\n",
    "\n",
    "# del t4[0] # 오류 : 튜플의 값 삭제 불가\n",
    "# t4[1] = 100 # 오류 : 튜플의 값 변경 불가"
   ]
  },
  {
   "cell_type": "code",
   "execution_count": 48,
   "id": "63209c2a",
   "metadata": {},
   "outputs": [
    {
     "name": "stdout",
     "output_type": "stream",
     "text": [
      "<class 'tuple'> <class 'list'> <class 'tuple'>\n",
      "[1, 2, 3, 4, 5] (1, 2, 3, 4, 5)\n"
     ]
    }
   ],
   "source": [
    "t5 = (1, 2, 3, 4, 5)\n",
    "l6 = list(t5) # tuple -> list로 변경\n",
    "t6 = tuple(l6) # list -> tuple로 변경\n",
    "\n",
    "print( type(t5), type(l6), type(t6) )\n",
    "print(l6, t6)"
   ]
  },
  {
   "cell_type": "code",
   "execution_count": null,
   "id": "2a454090",
   "metadata": {},
   "outputs": [],
   "source": []
  },
  {
   "cell_type": "code",
   "execution_count": 53,
   "id": "aef794f5",
   "metadata": {},
   "outputs": [
    {
     "name": "stdout",
     "output_type": "stream",
     "text": [
      "<class 'dict'> <class 'dict'>\n",
      "{} {'name': 'John Doe', 'email': 'johndoe@example.com', 'age': 32}\n",
      "{'name': 'John Doe', 'email': 'johndoe@example.com', 'age': 32, 'phone': '010-6598-2231'}\n",
      "{'name': 'John Doe', 'email': 'johndoe@human.com', 'age': 32, 'phone': '010-6598-2231'}\n",
      "{'name': 'Jane Doe', 'email': 'janedoe@human.com', 'age': 32, 'phone': '010-6598-2231', 'gender': 'female'}\n"
     ]
    }
   ],
   "source": [
    "# 딕셔너리 만들기\n",
    "\n",
    "d1 = {}\n",
    "d2 = { 'name': 'John Doe', 'email': \"johndoe@example.com\", 'age': 32 }\n",
    "\n",
    "print(type(d1), type(d2))\n",
    "print(d1, d2)\n",
    "\n",
    "# 딕셔너리에 값 추가\n",
    "d2['phone'] = '010-6598-2231'\n",
    "print(d2)\n",
    "\n",
    "# 딕셔너리의 값 변경\n",
    "d2['email'] = \"johndoe@human.com\"\n",
    "print(d2)\n",
    "\n",
    "# 딕셔너리에 값 추가 or 기존 값 변경\n",
    "d2.update( { 'name': \"Jane Doe\", \"email\": \"janedoe@human.com\", 'gender': 'female'} )\n",
    "print(d2)"
   ]
  }
 ],
 "metadata": {
  "kernelspec": {
   "display_name": "Python 3",
   "language": "python",
   "name": "python3"
  },
  "language_info": {
   "codemirror_mode": {
    "name": "ipython",
    "version": 3
   },
   "file_extension": ".py",
   "mimetype": "text/x-python",
   "name": "python",
   "nbconvert_exporter": "python",
   "pygments_lexer": "ipython3",
   "version": "3.11.9"
  }
 },
 "nbformat": 4,
 "nbformat_minor": 5
}
