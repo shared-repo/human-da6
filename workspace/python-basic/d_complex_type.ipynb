{
 "cells": [
  {
   "cell_type": "code",
   "execution_count": 14,
   "id": "1b4bb2d6",
   "metadata": {},
   "outputs": [],
   "source": [
    "# 리스트 만들기\n",
    "\n",
    "l = [] # list()\n",
    "l2 = [1, 2, 3, 4, 5, 6, 7, 8, 9, 10]\n",
    "l3 = [10, 20, 30, [40, 50, 60], 70, 80, 90] # 리스트 내부의 리스트는 1개의 데이터로 처리"
   ]
  },
  {
   "cell_type": "code",
   "execution_count": 15,
   "id": "e422bac9",
   "metadata": {},
   "outputs": [
    {
     "name": "stdout",
     "output_type": "stream",
     "text": [
      "6\n",
      "8\n",
      "70\n",
      "50\n"
     ]
    }
   ],
   "source": [
    "# list indexing \n",
    "\n",
    "print( l2[5] )\n",
    "print( l2[-3] )\n",
    "print( l3[4])       # [40, 50, 60]은 한 개의 데이터로 처리 되기 때문에 70이 출력됨\n",
    "print( l3[3][1])"
   ]
  },
  {
   "cell_type": "code",
   "execution_count": 16,
   "id": "49a5f6ef",
   "metadata": {},
   "outputs": [
    {
     "name": "stdout",
     "output_type": "stream",
     "text": [
      "[4, 5, 6, 7]\n",
      "[4, 5, 6, 7, 8, 9, 10]\n",
      "[1, 2, 3, 4, 5, 6, 7]\n"
     ]
    }
   ],
   "source": [
    "# list slicing\n",
    "\n",
    "print( l2[3:7] )\n",
    "print( l2[3:] )\n",
    "print( l2[:7] )"
   ]
  },
  {
   "cell_type": "code",
   "execution_count": 17,
   "id": "4b0cb7a3",
   "metadata": {},
   "outputs": [
    {
     "name": "stdout",
     "output_type": "stream",
     "text": [
      "[1, 2, 3, 4, 5, 6, 7, 8, 9, 10, 10, 20, 30, [40, 50, 60], 70, 80, 90]\n",
      "[1, 2, 3, 4, 5, 6, 7, 8, 9, 10, 1, 2, 3, 4, 5, 6, 7, 8, 9, 10]\n"
     ]
    }
   ],
   "source": [
    "# 리스트 연산\n",
    "\n",
    "print( l2 + l3 ) # 두 리스트의 합은 두 리스트를 결합한 새 리스트 생성\n",
    "\n",
    "print( l2 * 2 ) # 리스트와 스칼라 값의 곱은 리스트의 반복"
   ]
  },
  {
   "cell_type": "code",
   "execution_count": 25,
   "id": "62ade8d3",
   "metadata": {},
   "outputs": [
    {
     "name": "stdout",
     "output_type": "stream",
     "text": [
      "[1, 2, 3, 4, 5, 6, 7, 8, 9, 10]\n",
      "[1, 2, 3, 4, 5, 100, 7, 8, 9, 10]\n",
      "[1, 2, 3, 4, 5, 100, 10, 20, 30, 40, 50, 9, 10]\n"
     ]
    }
   ],
   "source": [
    "# 리스트 값 변경\n",
    "\n",
    "l4 = l2.copy() # l2를 복사해서 l4 만들기\n",
    "\n",
    "print( l4 )\n",
    "\n",
    "l4[5] = 100 # 단일 값 변경\n",
    "print( l4 )\n",
    "\n",
    "l4[6:8] = [10, 20, 30, 40, 50] # 다중 값 변경 : [7, 8]을 [10, 20, 30, 40, 50]으로 변경\n",
    "print( l4 )"
   ]
  },
  {
   "cell_type": "code",
   "execution_count": null,
   "id": "0641c30d",
   "metadata": {},
   "outputs": [
    {
     "name": "stdout",
     "output_type": "stream",
     "text": [
      "[1, 2, 3, 4, 5, 7, 8, 9, 10]\n",
      "[1, 2, 3, 7, 8, 9, 10]\n"
     ]
    }
   ],
   "source": [
    "# 리스트의 요소 제거 (삭제)\n",
    "l5 = l2.copy()\n",
    "\n",
    "del l5[5] # 5번 위치의 데이터 삭제\n",
    "print(l5)\n",
    "\n",
    "l5[3:5] = [] # 3, 4번 위치의 데이터 삭제\n",
    "print(l5)"
   ]
  }
 ],
 "metadata": {
  "kernelspec": {
   "display_name": "Python 3",
   "language": "python",
   "name": "python3"
  },
  "language_info": {
   "codemirror_mode": {
    "name": "ipython",
    "version": 3
   },
   "file_extension": ".py",
   "mimetype": "text/x-python",
   "name": "python",
   "nbconvert_exporter": "python",
   "pygments_lexer": "ipython3",
   "version": "3.11.9"
  }
 },
 "nbformat": 4,
 "nbformat_minor": 5
}
