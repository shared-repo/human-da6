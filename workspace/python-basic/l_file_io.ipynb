{
 "cells": [
  {
   "cell_type": "code",
   "execution_count": null,
   "id": "0d8ca701",
   "metadata": {},
   "outputs": [],
   "source": [
    "# 쓰기 모드 파일 열기\n",
    "f = open('data-files/test.txt', 'w') # w: 쓰기, r: 읽기\n",
    "\n",
    "# 파일에 데이터 쓰기\n",
    "f.write(\"파일에 쓰는 데이터 1\")\n",
    "f.write(\"파일에 쓰는 데이터 2\")\n",
    "f.write(\"파일에 쓰는 데이터 3\")\n",
    "\n",
    "# 파일 닫기\n",
    "f.close()"
   ]
  }
 ],
 "metadata": {
  "kernelspec": {
   "display_name": "Python 3",
   "language": "python",
   "name": "python3"
  },
  "language_info": {
   "codemirror_mode": {
    "name": "ipython",
    "version": 3
   },
   "file_extension": ".py",
   "mimetype": "text/x-python",
   "name": "python",
   "nbconvert_exporter": "python",
   "pygments_lexer": "ipython3",
   "version": "3.11.9"
  }
 },
 "nbformat": 4,
 "nbformat_minor": 5
}
