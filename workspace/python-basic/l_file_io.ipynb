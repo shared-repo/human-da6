{
 "cells": [
  {
   "cell_type": "code",
   "execution_count": null,
   "id": "0d8ca701",
   "metadata": {},
   "outputs": [],
   "source": [
    "# 쓰기 모드 파일 열기\n",
    "f = open('data-files/test.txt', # windows에서는 /대신 \\\\ 사용 가능\n",
    "         'wt', # w: 쓰기, r: 읽기, t : text, b : binary\n",
    "         encoding=\"utf-8\") # 문자 코드 시스템\n",
    "\n",
    "# 파일에 데이터 쓰기\n",
    "f.write(\"파일에 쓰는 데이터 1\\n\")\n",
    "f.write(\"파일에 쓰는 데이터 2\\n\")\n",
    "f.write(\"파일에 쓰는 데이터 3\\n\")\n",
    "\n",
    "# 파일 닫기 (열린 파일은 반드시 닫기 처리 필요)\n",
    "f.close()"
   ]
  },
  {
   "cell_type": "code",
   "execution_count": 6,
   "id": "a2860541",
   "metadata": {},
   "outputs": [],
   "source": [
    "# 쓰기 모드 파일 열기\n",
    "with open('data-files/test.txt','wt',encoding=\"utf-8\") as f: # with 블록을 벗어나면 자동으로 파일 닫기\n",
    "\n",
    "    # 파일에 데이터 쓰기\n",
    "    f.write(\"파일에 쓰는 데이터 1\\n\")\n",
    "    f.write(\"파일에 쓰는 데이터 2\\n\")\n",
    "    f.write(\"파일에 쓰는 데이터 3\\n\")\n"
   ]
  },
  {
   "cell_type": "code",
   "execution_count": null,
   "id": "b909b75c",
   "metadata": {},
   "outputs": [
    {
     "name": "stdout",
     "output_type": "stream",
     "text": [
      "파일에 쓰는 데이터 1\n",
      "파일에 쓰는 데이터 2\n",
      "파일에 쓰는 데이터 3\n",
      "\n"
     ]
    }
   ],
   "source": [
    "with open('data-files/test.txt', 'rt', encoding='utf-8') as f:\n",
    "    contents = f.read() # 파일 전체 읽기\n",
    "    print(contents)"
   ]
  },
  {
   "cell_type": "code",
   "execution_count": 9,
   "id": "6aae0365",
   "metadata": {},
   "outputs": [
    {
     "name": "stdout",
     "output_type": "stream",
     "text": [
      "파일에 쓰는 데이터 1\n",
      "\n",
      "파일에 쓰는 데이터 2\n",
      "\n",
      "파일에 쓰는 데이터 3\n",
      "\n"
     ]
    }
   ],
   "source": [
    "with open('data-files/test.txt', 'rt', encoding='utf-8') as f:\n",
    "    while True:\n",
    "        content = f.readline() # 한 줄씩 읽기\n",
    "        if content == \"\": # 파일의 끝이라면 (더 읽을 내용이 없다면)\n",
    "            break\n",
    "        print(content)"
   ]
  },
  {
   "cell_type": "code",
   "execution_count": 11,
   "id": "1a4d5aa6",
   "metadata": {},
   "outputs": [
    {
     "name": "stdout",
     "output_type": "stream",
     "text": [
      "['파일에 쓰는 데이터 1\\n', '파일에 쓰는 데이터 2\\n', '파일에 쓰는 데이터 3\\n']\n",
      "파일에 쓰는 데이터 1\n",
      "\n",
      "파일에 쓰는 데이터 2\n",
      "\n",
      "파일에 쓰는 데이터 3\n",
      "\n"
     ]
    }
   ],
   "source": [
    "with open('data-files/test.txt', 'rt', encoding='utf-8') as f:\n",
    "    contents = f.readlines() # 파일 전체 읽기 + 각 줄별로 나누어서 리스트로 반환\n",
    "    print(contents)\n",
    "\n",
    "with open('data-files/test.txt', 'rt', encoding='utf-8') as f:\n",
    "    contents = f.readlines() # 파일 전체 읽기 + 각 줄별로 나누어서 리스트로 반환\n",
    "    for c in contents:\n",
    "        print(c)"
   ]
  }
 ],
 "metadata": {
  "kernelspec": {
   "display_name": "Python 3",
   "language": "python",
   "name": "python3"
  },
  "language_info": {
   "codemirror_mode": {
    "name": "ipython",
    "version": 3
   },
   "file_extension": ".py",
   "mimetype": "text/x-python",
   "name": "python",
   "nbconvert_exporter": "python",
   "pygments_lexer": "ipython3",
   "version": "3.11.9"
  }
 },
 "nbformat": 4,
 "nbformat_minor": 5
}
