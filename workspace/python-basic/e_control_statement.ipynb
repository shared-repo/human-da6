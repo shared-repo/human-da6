{
 "cells": [
  {
   "cell_type": "code",
   "execution_count": 4,
   "id": "ec2f0706",
   "metadata": {},
   "outputs": [
    {
     "name": "stdout",
     "output_type": "stream",
     "text": [
      "1 - Got a true expression value\n",
      "100\n"
     ]
    }
   ],
   "source": [
    "# if문 테스트 1\n",
    "\n",
    "var1 = 100\n",
    "# if var1:  # 숫자인 경우 0이면 False 아니면 True (여기서는 True)\n",
    "if True:\n",
    "    print (\"1 - Got a true expression value\")\n",
    "    print (var1)\n",
    "\n",
    "var2 = 0\n",
    "# if var2:  # 숫자인 경우 0이면 False 아니면 True (여기서는 False)\n",
    "if False:\n",
    "    print (\"2 - Got a true expression value\")\n",
    "    print (var2)\n",
    "    print (\"Good bye!\")"
   ]
  },
  {
   "cell_type": "code",
   "execution_count": 2,
   "id": "ca06eaaf",
   "metadata": {},
   "outputs": [
    {
     "name": "stdout",
     "output_type": "stream",
     "text": [
      "36\n",
      "30 초과\n"
     ]
    }
   ],
   "source": [
    "# if문 테스트 2\n",
    "\n",
    "import random # 미리 만들어진 코드 가져오기\n",
    "\n",
    "# a = 19\n",
    "a = random.randint(1, 40) # 1 ~ 40 사이의 난수(정수) 뽑기\n",
    "print(a)\n",
    "\n",
    "if a <= 10:\n",
    "    print('10 이하')\n",
    "elif a <= 20:\n",
    "    print('10 ~ 20')\n",
    "elif a <= 30:\n",
    "    print('20 ~ 30')\n",
    "else:\n",
    "    print('30 초과')"
   ]
  },
  {
   "cell_type": "code",
   "execution_count": 6,
   "id": "5253a7b3",
   "metadata": {},
   "outputs": [
    {
     "name": "stdout",
     "output_type": "stream",
     "text": [
      "택시를 타고 가라\n"
     ]
    }
   ],
   "source": [
    "money = 2000\n",
    "card = 1\n",
    "if money >= 3000 or card: # or : 두 조건 중 하나만 만족하면 True, 모두 만족하지 않으면 False\n",
    "# if money >= 3000 and card:  # and : 두 조건을 모두 만족해야 True, 아니면 False\n",
    "    print(\"택시를 타고 가라\")\n",
    "else:\n",
    "    print(\"걸어가라\")"
   ]
  },
  {
   "cell_type": "code",
   "execution_count": 8,
   "id": "b02f9b61",
   "metadata": {},
   "outputs": [
    {
     "name": "stdout",
     "output_type": "stream",
     "text": [
      "택시를 타고 가라\n",
      "택시를 타고 가라\n"
     ]
    }
   ],
   "source": [
    "pocket = ['paper', 'cellphone', 'money']\n",
    "if 'money' in pocket: # 'money'가 pocket 리스트에 포함된 값이면 True, 아니면 False\n",
    "    print(\"택시를 타고 가라\")\n",
    "else:\n",
    "    print(\"걸어가라\")\n",
    "\n",
    "if 'money' not in pocket: # 'money'가 pocket 리스트에 포함된 값이면 False, 아니면 True\n",
    "    print(\"걸어가라\")\n",
    "else:\n",
    "    print(\"택시를 타고 가라\")\n",
    "    "
   ]
  },
  {
   "cell_type": "code",
   "execution_count": null,
   "id": "6877f406",
   "metadata": {},
   "outputs": [],
   "source": [
    "pocket = ['paper', 'cellphone', 'money']\n",
    "if 'money' in pocket: # 'money'가 pocket 리스트에 포함된 값이면 True, 아니면 False\n",
    "    pass # 아무 동작도 하지 않지만 구문의 구조를 완성하는 기능\n",
    "else:\n",
    "    print(\"카드를 꺼내세요\")"
   ]
  },
  {
   "cell_type": "code",
   "execution_count": null,
   "id": "9c1adbbd",
   "metadata": {},
   "outputs": [],
   "source": []
  },
  {
   "cell_type": "code",
   "execution_count": 12,
   "id": "9098eacd",
   "metadata": {},
   "outputs": [
    {
     "name": "stdout",
     "output_type": "stream",
     "text": [
      "나무를 1번 찍었습니다.\n",
      "나무를 2번 찍었습니다.\n",
      "나무를 3번 찍었습니다.\n",
      "나무를 4번 찍었습니다.\n",
      "나무를 5번 찍었습니다.\n",
      "나무를 6번 찍었습니다.\n",
      "나무를 7번 찍었습니다.\n",
      "나무를 8번 찍었습니다.\n",
      "나무를 9번 찍었습니다.\n",
      "나무를 10번 찍었습니다.\n",
      "나무 넘어갑니다.\n"
     ]
    }
   ],
   "source": [
    "treeHit = 0\n",
    "while treeHit < 10:\n",
    "    \n",
    "    treeHit += 1 # treeHit = treeHit + 1\n",
    "\n",
    "    # print(\"나무를 %d번 찍었습니다.\" % treeHit)\n",
    "    # print(\"나무를 {0}번 찍었습니다.\".format(treeHit))\n",
    "    print(f\"나무를 {treeHit}번 찍었습니다.\")\n",
    "    \n",
    "    if treeHit == 10:\n",
    "        print(\"나무 넘어갑니다.\")"
   ]
  },
  {
   "cell_type": "code",
   "execution_count": 14,
   "id": "c750fe68",
   "metadata": {},
   "outputs": [
    {
     "name": "stdout",
     "output_type": "stream",
     "text": [
      "one\n",
      "two\n",
      "three\n",
      "four\n",
      "five\n"
     ]
    }
   ],
   "source": [
    "test_list = ['one', 'two', 'three', 'four', 'five']\n",
    "for i in test_list:\n",
    "    print(i)\n"
   ]
  },
  {
   "cell_type": "code",
   "execution_count": 17,
   "id": "acc3fa40",
   "metadata": {},
   "outputs": [
    {
     "name": "stdout",
     "output_type": "stream",
     "text": [
      "3\n",
      "7\n",
      "11\n"
     ]
    }
   ],
   "source": [
    "x, y = 10, 20       # 1번 형식\n",
    "x, y = (10, 20)     # 2번 형식\n",
    "(x, y) = 10, 20     # 3번 형식\n",
    "(x, y) = (10, 20)   # 4번 형식\n",
    "\n",
    "a = [(1,2), (3,4), (5,6)]\n",
    "# for (first, last) in a:   # 4번 형식 적용\n",
    "for first, last in a:       # 2번 형식 적용\n",
    "    print(first + last)\n"
   ]
  },
  {
   "cell_type": "code",
   "execution_count": null,
   "id": "eca9728d",
   "metadata": {},
   "outputs": [],
   "source": []
  },
  {
   "cell_type": "code",
   "execution_count": null,
   "id": "1358fb8a",
   "metadata": {},
   "outputs": [
    {
     "name": "stdout",
     "output_type": "stream",
     "text": [
      "range(0, 10)\n",
      "range(1, 10)\n",
      "range(1, 10, 2)\n"
     ]
    }
   ],
   "source": [
    "# from ~ to 범위의 숫자 목록 만들기\n",
    "a = range(10) # (0, 1, 2, 3, 4, 5, 6, 7, 8, 9)\n",
    "print(a)\n",
    "b = range(1, 10) # (1, 2, 3, 4, 5, 6, 7, 8, 9)\n",
    "print(b)\n",
    "c = range(1, 10, 2) # (1, 3, 5, 7, 9)\n",
    "print(c)"
   ]
  },
  {
   "cell_type": "code",
   "execution_count": null,
   "id": "7da9e796",
   "metadata": {},
   "outputs": [
    {
     "name": "stdout",
     "output_type": "stream",
     "text": [
      "0 1 2 3 4 5 6 7 8 9 1 2 3 4 5 6 7 8 9 \n",
      "1 3 5 7 9 "
     ]
    }
   ],
   "source": [
    "# 범위의 숫자 목록을 반복문에 적용\n",
    "for i in range(10):\n",
    "    # print(i) # i를 출력하고 끝에 enter(\\n) 출력\n",
    "    print(i, end=' ') # i를 출력하고 끝에 space(' ') 출력\n",
    "\n",
    "print() # 여기서 줄바꿈\n",
    "for i in range(1, 10):\n",
    "    print(i, end=' ')\n",
    "\n",
    "print()\n",
    "for i in range(1, 10, 2):\n",
    "    print(i, end=' ')"
   ]
  },
  {
   "cell_type": "code",
   "execution_count": null,
   "id": "b4c668c6",
   "metadata": {},
   "outputs": [
    {
     "name": "stdout",
     "output_type": "stream",
     "text": [
      "[10, 20, 30, 40, 50, 60, 70, 80, 90, 100]\n",
      "[10, 20, 30, 40, 50, 60, 70, 80, 90, 100]\n"
     ]
    }
   ],
   "source": [
    "a = [1, 2, 3, 4, 5, 6, 7, 8, 9, 10]\n",
    "\n",
    "# a 리스트의 각 값에 10을 곱합 값으로 새 리스트 만들기\n",
    "b = []\n",
    "for n in a:\n",
    "    r = n * 10\n",
    "    b.append( r )\n",
    "print(b)\n",
    "\n",
    "b2 = [ n*10 for n in a ]\n",
    "print(b2)"
   ]
  },
  {
   "cell_type": "code",
   "execution_count": null,
   "id": "9ab55268",
   "metadata": {},
   "outputs": [
    {
     "name": "stdout",
     "output_type": "stream",
     "text": [
      "[10, 30, 50, 70, 90]\n",
      "[5, 15, 25, 35, 45]\n"
     ]
    }
   ],
   "source": [
    "a = [1, 2, 3, 4, 5, 6, 7, 8, 9, 10]\n",
    "\n",
    "# a 리스트의 홀수 값만 뽑아서 10을 곱합 값으로 새 리스트 만들기\n",
    "b = []\n",
    "for n in a:\n",
    "    if n % 2 == 1:\n",
    "        r = n * 10\n",
    "        b.append( r )\n",
    "print(b)\n",
    "\n",
    "b2 = [ n * 10 / 2 for n in a if n % 2 == 1 ]\n",
    "print(b2)"
   ]
  },
  {
   "cell_type": "code",
   "execution_count": null,
   "id": "790e5539",
   "metadata": {},
   "outputs": [
    {
     "name": "stdout",
     "output_type": "stream",
     "text": [
      "1\n",
      "3\n",
      "5\n",
      "7\n"
     ]
    }
   ],
   "source": [
    "# break and continue\n",
    "\n",
    "# 7이면 종료\n",
    "# 홀수만 출력\n",
    "for n in range(1, 11): # [1, 2, 3, 4, 5, 6, 7, 8, 9, 10]\n",
    "    if n % 2 == 0:\n",
    "        continue    # 반복문의 처음으로 이동\n",
    "    \n",
    "    print(n)\n",
    "    \n",
    "    if n == 7:\n",
    "        break       # 반복문 종료"
   ]
  },
  {
   "cell_type": "code",
   "execution_count": null,
   "id": "a4253571",
   "metadata": {},
   "outputs": [
    {
     "name": "stdout",
     "output_type": "stream",
     "text": [
      "1\n",
      "2\n",
      "3\n",
      "========================================\n",
      "1\n",
      "2\n",
      "3\n",
      "4\n",
      "5\n",
      "여기는 else 2\n"
     ]
    }
   ],
   "source": [
    "for n in [1, 2, 3, 4, 5]:\n",
    "    print(n)\n",
    "    if n == 3:\n",
    "        break\n",
    "else: # break로 종료되지 않은 경우에 실행되는 영역\n",
    "    print('여기는 else 1')\n",
    "\n",
    "print(\"=\" * 40)\n",
    "\n",
    "for n in [1, 2, 3, 4, 5]:\n",
    "    print(n)\n",
    "else:  # break로 종료되지 않은 경우에 실행되는 영역\n",
    "    print('여기는 else 2')"
   ]
  }
 ],
 "metadata": {
  "kernelspec": {
   "display_name": "Python 3",
   "language": "python",
   "name": "python3"
  },
  "language_info": {
   "codemirror_mode": {
    "name": "ipython",
    "version": 3
   },
   "file_extension": ".py",
   "mimetype": "text/x-python",
   "name": "python",
   "nbconvert_exporter": "python",
   "pygments_lexer": "ipython3",
   "version": "3.11.9"
  }
 },
 "nbformat": 4,
 "nbformat_minor": 5
}
