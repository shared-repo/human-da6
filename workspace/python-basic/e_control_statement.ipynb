{
 "cells": [
  {
   "cell_type": "code",
   "execution_count": 4,
   "id": "ec2f0706",
   "metadata": {},
   "outputs": [
    {
     "name": "stdout",
     "output_type": "stream",
     "text": [
      "1 - Got a true expression value\n",
      "100\n"
     ]
    }
   ],
   "source": [
    "# if문 테스트 1\n",
    "\n",
    "var1 = 100\n",
    "# if var1:  # 숫자인 경우 0이면 False 아니면 True (여기서는 True)\n",
    "if True:\n",
    "    print (\"1 - Got a true expression value\")\n",
    "    print (var1)\n",
    "\n",
    "var2 = 0\n",
    "# if var2:  # 숫자인 경우 0이면 False 아니면 True (여기서는 False)\n",
    "if False:\n",
    "    print (\"2 - Got a true expression value\")\n",
    "    print (var2)\n",
    "    print (\"Good bye!\")"
   ]
  },
  {
   "cell_type": "code",
   "execution_count": 2,
   "id": "ca06eaaf",
   "metadata": {},
   "outputs": [
    {
     "name": "stdout",
     "output_type": "stream",
     "text": [
      "36\n",
      "30 초과\n"
     ]
    }
   ],
   "source": [
    "# if문 테스트 2\n",
    "\n",
    "import random # 미리 만들어진 코드 가져오기\n",
    "\n",
    "# a = 19\n",
    "a = random.randint(1, 40) # 1 ~ 40 사이의 난수(정수) 뽑기\n",
    "print(a)\n",
    "\n",
    "if a <= 10:\n",
    "    print('10 이하')\n",
    "elif a <= 20:\n",
    "    print('10 ~ 20')\n",
    "elif a <= 30:\n",
    "    print('20 ~ 30')\n",
    "else:\n",
    "    print('30 초과')"
   ]
  },
  {
   "cell_type": "code",
   "execution_count": 6,
   "id": "5253a7b3",
   "metadata": {},
   "outputs": [
    {
     "name": "stdout",
     "output_type": "stream",
     "text": [
      "택시를 타고 가라\n"
     ]
    }
   ],
   "source": [
    "money = 2000\n",
    "card = 1\n",
    "if money >= 3000 or card: # or : 두 조건 중 하나만 만족하면 True, 모두 만족하지 않으면 False\n",
    "# if money >= 3000 and card:  # and : 두 조건을 모두 만족해야 True, 아니면 False\n",
    "    print(\"택시를 타고 가라\")\n",
    "else:\n",
    "    print(\"걸어가라\")"
   ]
  },
  {
   "cell_type": "code",
   "execution_count": 8,
   "id": "b02f9b61",
   "metadata": {},
   "outputs": [
    {
     "name": "stdout",
     "output_type": "stream",
     "text": [
      "택시를 타고 가라\n",
      "택시를 타고 가라\n"
     ]
    }
   ],
   "source": [
    "pocket = ['paper', 'cellphone', 'money']\n",
    "if 'money' in pocket: # 'money'가 pocket 리스트에 포함된 값이면 True, 아니면 False\n",
    "    print(\"택시를 타고 가라\")\n",
    "else:\n",
    "    print(\"걸어가라\")\n",
    "\n",
    "if 'money' not in pocket: # 'money'가 pocket 리스트에 포함된 값이면 False, 아니면 True\n",
    "    print(\"걸어가라\")\n",
    "else:\n",
    "    print(\"택시를 타고 가라\")\n",
    "    "
   ]
  },
  {
   "cell_type": "code",
   "execution_count": null,
   "id": "6877f406",
   "metadata": {},
   "outputs": [],
   "source": [
    "pocket = ['paper', 'cellphone', 'money']\n",
    "if 'money' in pocket: # 'money'가 pocket 리스트에 포함된 값이면 True, 아니면 False\n",
    "    pass # 아무 동작도 하지 않지만 구문의 구조를 완성하는 기능\n",
    "else:\n",
    "    print(\"카드를 꺼내세요\")"
   ]
  },
  {
   "cell_type": "code",
   "execution_count": null,
   "id": "9c1adbbd",
   "metadata": {},
   "outputs": [],
   "source": []
  },
  {
   "cell_type": "code",
   "execution_count": 12,
   "id": "9098eacd",
   "metadata": {},
   "outputs": [
    {
     "name": "stdout",
     "output_type": "stream",
     "text": [
      "나무를 1번 찍었습니다.\n",
      "나무를 2번 찍었습니다.\n",
      "나무를 3번 찍었습니다.\n",
      "나무를 4번 찍었습니다.\n",
      "나무를 5번 찍었습니다.\n",
      "나무를 6번 찍었습니다.\n",
      "나무를 7번 찍었습니다.\n",
      "나무를 8번 찍었습니다.\n",
      "나무를 9번 찍었습니다.\n",
      "나무를 10번 찍었습니다.\n",
      "나무 넘어갑니다.\n"
     ]
    }
   ],
   "source": [
    "treeHit = 0\n",
    "while treeHit < 10:\n",
    "    \n",
    "    treeHit += 1 # treeHit = treeHit + 1\n",
    "\n",
    "    # print(\"나무를 %d번 찍었습니다.\" % treeHit)\n",
    "    # print(\"나무를 {0}번 찍었습니다.\".format(treeHit))\n",
    "    print(f\"나무를 {treeHit}번 찍었습니다.\")\n",
    "    \n",
    "    if treeHit == 10:\n",
    "        print(\"나무 넘어갑니다.\")"
   ]
  }
 ],
 "metadata": {
  "kernelspec": {
   "display_name": "Python 3",
   "language": "python",
   "name": "python3"
  },
  "language_info": {
   "codemirror_mode": {
    "name": "ipython",
    "version": 3
   },
   "file_extension": ".py",
   "mimetype": "text/x-python",
   "name": "python",
   "nbconvert_exporter": "python",
   "pygments_lexer": "ipython3",
   "version": "3.11.9"
  }
 },
 "nbformat": 4,
 "nbformat_minor": 5
}
