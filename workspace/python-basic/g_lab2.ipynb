{
 "cells": [
  {
   "cell_type": "code",
   "execution_count": null,
   "id": "7c6e6b50",
   "metadata": {},
   "outputs": [],
   "source": [
    "# 가위 바위 보 게임\n",
    "# 1. 사용자 번호 결정 : 입력 (1 : 가위, 2: 바위 , 3: 보) 받아서 변수에 저장\n",
    "#    출력해서 테스트\n",
    "# 2. 컴퓨터 번호 결정 : random(1, 2, 3)으로 뽑아서 변수에 저장\n",
    "#    출력해서 테스트\n",
    "# 3. 사용자 번호와 컴퓨터 번호 비교 -> 승/무/패 결정\n",
    "# 4. 결과 출력\n",
    "\n",
    "# 5. 1 ~ 4를 사용자가 원할 때까지 반복 (선택)"
   ]
  },
  {
   "cell_type": "code",
   "execution_count": null,
   "id": "e38c7276",
   "metadata": {},
   "outputs": [
    {
     "name": "stdout",
     "output_type": "stream",
     "text": [
      "[사용자 : 1] [컴퓨터 : 1] [결과 : 비겼습니다.]\n",
      "게임을 종료합니다.\n"
     ]
    }
   ],
   "source": [
    "import random \n",
    "\n",
    "mapping = { 1: \"가위\", 2: \"바위\", 3: \"보\" }\n",
    "\n",
    "while True:\n",
    "    selection = input(\"[1. 게임시작][2 : 게임종료]\\n작업을 선택하세요\")\n",
    "    if selection == \"1\":\n",
    "        pass\n",
    "    elif selection == \"2\":\n",
    "        print(\"게임을 종료합니다.\")\n",
    "        break\n",
    "    else:\n",
    "        print(\"다시 선택하세요\")\n",
    "        continue\n",
    "\n",
    "    user = input('[가위 : 1, 바위 : 2, 보 : 3] 가위, 바위, 보를 선택하세요')\n",
    "    user = int(user)\n",
    "\n",
    "    com = random.randint(1, 3)\n",
    "\n",
    "    if user == com:\n",
    "        result = \"비겼습니다.\"\n",
    "    elif (user == 1 and com == 3) or (user == 2 and com == 1) or (user == 3 and com == 2):\n",
    "        result = \"이겼습니다.\"\n",
    "    else:\n",
    "        result = \"졌습니다.\"\n",
    "\n",
    "    print(f\"[사용자 : {mapping[user]}] [컴퓨터 : {mapping[com]}] [결과 : {result}]\")\n",
    "\n"
   ]
  }
 ],
 "metadata": {
  "kernelspec": {
   "display_name": "Python 3",
   "language": "python",
   "name": "python3"
  },
  "language_info": {
   "codemirror_mode": {
    "name": "ipython",
    "version": 3
   },
   "file_extension": ".py",
   "mimetype": "text/x-python",
   "name": "python",
   "nbconvert_exporter": "python",
   "pygments_lexer": "ipython3",
   "version": "3.11.9"
  }
 },
 "nbformat": 4,
 "nbformat_minor": 5
}
