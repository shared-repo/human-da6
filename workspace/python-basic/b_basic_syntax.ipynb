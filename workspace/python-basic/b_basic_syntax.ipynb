{
 "cells": [
  {
   "cell_type": "code",
   "execution_count": 2,
   "id": "8175a597",
   "metadata": {},
   "outputs": [
    {
     "name": "stdout",
     "output_type": "stream",
     "text": [
      "hello\n"
     ]
    }
   ],
   "source": [
    "print(\"hello\")"
   ]
  },
  {
   "cell_type": "code",
   "execution_count": 3,
   "id": "5e0da7b3",
   "metadata": {},
   "outputs": [
    {
     "name": "stdout",
     "output_type": "stream",
     "text": [
      "20\n"
     ]
    }
   ],
   "source": [
    "a = 10\n",
    "에이 = 20\n",
    "print(에이)"
   ]
  },
  {
   "cell_type": "code",
   "execution_count": null,
   "id": "5e2ce2e6",
   "metadata": {},
   "outputs": [
    {
     "name": "stdout",
     "output_type": "stream",
     "text": [
      "60 60\n"
     ]
    }
   ],
   "source": [
    "a = 10 + 20 + 30\n",
    "b = 10 + \\\n",
    "    20 + \\\n",
    "    30\n",
    "\n",
    "print(a, b)"
   ]
  },
  {
   "cell_type": "code",
   "execution_count": 6,
   "id": "a55120b2",
   "metadata": {},
   "outputs": [
    {
     "name": "stdout",
     "output_type": "stream",
     "text": [
      "hello\n",
      "hi\n",
      "test\n"
     ]
    }
   ],
   "source": [
    "print('hello'); print('hi')\n",
    "\n",
    "print('test');"
   ]
  },
  {
   "cell_type": "code",
   "execution_count": null,
   "id": "4e36f42a",
   "metadata": {},
   "outputs": [
    {
     "data": {
      "text/plain": [
       "<function print(*args, sep=' ', end='\\n', file=None, flush=False)>"
      ]
     },
     "execution_count": 7,
     "metadata": {},
     "output_type": "execute_result"
    }
   ],
   "source": [
    "print # 이름"
   ]
  },
  {
   "cell_type": "code",
   "execution_count": 10,
   "id": "e0cbb538",
   "metadata": {},
   "outputs": [
    {
     "data": {
      "text/plain": [
       "'printprint'"
      ]
     },
     "execution_count": 10,
     "metadata": {},
     "output_type": "execute_result"
    }
   ],
   "source": [
    "\"print\" 'print' # 데이터"
   ]
  },
  {
   "cell_type": "code",
   "execution_count": null,
   "id": "1efaf4ee",
   "metadata": {},
   "outputs": [],
   "source": [
    "\"\"\"안녕하세요.\n",
    "오늘은 교육 1일차 입니다.\"\"\""
   ]
  },
  {
   "cell_type": "code",
   "execution_count": 12,
   "id": "095d3d8f",
   "metadata": {},
   "outputs": [
    {
     "name": "stdout",
     "output_type": "stream",
     "text": [
      "hello\n"
     ]
    }
   ],
   "source": [
    "print(\"hello\")\n",
    "# print('hello2') # 실행되지 않는 문장\n",
    "\n",
    "# 주석1\n",
    "# 주석2\n",
    "# 주석3"
   ]
  },
  {
   "cell_type": "code",
   "execution_count": null,
   "id": "ee9b85f1",
   "metadata": {},
   "outputs": [],
   "source": [
    "if True :\n",
    "    print(\"test\")\n"
   ]
  }
 ],
 "metadata": {
  "kernelspec": {
   "display_name": "Python 3",
   "language": "python",
   "name": "python3"
  },
  "language_info": {
   "codemirror_mode": {
    "name": "ipython",
    "version": 3
   },
   "file_extension": ".py",
   "mimetype": "text/x-python",
   "name": "python",
   "nbconvert_exporter": "python",
   "pygments_lexer": "ipython3",
   "version": "3.11.9"
  }
 },
 "nbformat": 4,
 "nbformat_minor": 5
}
