{
 "cells": [
  {
   "cell_type": "code",
   "execution_count": 3,
   "id": "a612f1ee",
   "metadata": {},
   "outputs": [
    {
     "ename": "NotImplementedError",
     "evalue": "알 수 없는 오류가 발생했습니다.",
     "output_type": "error",
     "traceback": [
      "\u001b[31m---------------------------------------------------------------------------\u001b[39m",
      "\u001b[31mNotImplementedError\u001b[39m                       Traceback (most recent call last)",
      "\u001b[36mCell\u001b[39m\u001b[36m \u001b[39m\u001b[32mIn[3]\u001b[39m\u001b[32m, line 5\u001b[39m\n\u001b[32m      1\u001b[39m \u001b[38;5;66;03m# 예외(오류) 확인\u001b[39;00m\n\u001b[32m      2\u001b[39m \u001b[38;5;66;03m# a = 4 / 0\u001b[39;00m\n\u001b[32m      3\u001b[39m \u001b[38;5;66;03m# open('test.txt')\u001b[39;00m\n\u001b[32m----> \u001b[39m\u001b[32m5\u001b[39m \u001b[38;5;28;01mraise\u001b[39;00m \u001b[38;5;167;01mNotImplementedError\u001b[39;00m(\u001b[33m\"\u001b[39m\u001b[33m알 수 없는 오류가 발생했습니다.\u001b[39m\u001b[33m\"\u001b[39m) \u001b[38;5;66;03m# 강제 예외(오류) 발생\u001b[39;00m\n",
      "\u001b[31mNotImplementedError\u001b[39m: 알 수 없는 오류가 발생했습니다."
     ]
    }
   ],
   "source": [
    "# 예외(오류) 확인\n",
    "# a = 4 / 0\n",
    "# open('test.txt')\n",
    "\n",
    "raise NotImplementedError(\"알 수 없는 오류가 발생했습니다.\") # 강제 예외(오류) 발생"
   ]
  },
  {
   "cell_type": "code",
   "execution_count": null,
   "id": "064cba04",
   "metadata": {},
   "outputs": [
    {
     "name": "stdout",
     "output_type": "stream",
     "text": [
      "오류 발생이 의심되는 영역\n",
      "오류가 처리되었습니다 2 division by zero\n",
      "반드시 실행되는 영역입니다.\n"
     ]
    }
   ],
   "source": [
    "import random\n",
    "\n",
    "try:\n",
    "    print(\"오류 발생이 의심되는 영역\")\n",
    "\n",
    "    n = random.randint(1, 4)\n",
    "    if n == 1:\n",
    "        a = 10 / 0\n",
    "    elif n == 2:\n",
    "        b = open('not-exist.txt')\n",
    "    else:\n",
    "        print(\"정상 실행\")\n",
    "\n",
    "# except: 예외 종류와 관계 없이 모든 예외를 처리하는 영역\n",
    "# except FileNotFoundError: # 파일 없음 오류 발생시 호출되는 영역\n",
    "except FileNotFoundError as e1: # 파일 없음 오류 발생시 호출되는 영역, e1 변수에 오류 정보 저장\n",
    "    print('오류가 처리되었습니다 1', e1)\n",
    "    pass\n",
    "except ZeroDivisionError as e2: # 0으로 나누는 오류 발생시 호출되는 영역, e2 변수에 오류 정보 저장\n",
    "    print('오류가 처리되었습니다 2', e2)\n",
    "    pass\n",
    "else: # 오류가 발생하지 않은 경우 호출되는 영역\n",
    "    print('오류가 발생하지 않았습니다.')\n",
    "    pass\n",
    "finally: # 오류 발생여부와 관계 없이 무조건 호출되는 영역\n",
    "    print('반드시 실행되는 영역입니다.')\n",
    "    pass"
   ]
  },
  {
   "cell_type": "code",
   "execution_count": 47,
   "id": "adf29f0a",
   "metadata": {},
   "outputs": [
    {
     "name": "stdout",
     "output_type": "stream",
     "text": [
      "1\n",
      "문제있음\n"
     ]
    }
   ],
   "source": [
    "numbers = { 'a': 1, 'b': 2, 'c': 3 }\n",
    "\n",
    "print( numbers['a'] )\n",
    "# n = numbers['d'] # 오류 : 없는 키를 사용하면 오류\n",
    "# n = numbers.get('d') # 없는 키를 사용해도 오류가 발생하지 않습니다. (None 반환)\n",
    "n = numbers.get('d', 'not exist') # 없는 키를 사용해도 오류가 발생하지 않습니다. ('not exisst' 반환)\n",
    "if n == None or n == 'not exist':\n",
    "    print(\"문제있음\")\n",
    "else: \n",
    "    print(\"정상\")\n"
   ]
  },
  {
   "cell_type": "code",
   "execution_count": null,
   "id": "88b1e796",
   "metadata": {},
   "outputs": [
    {
     "name": "stdout",
     "output_type": "stream",
     "text": [
      "1\n",
      "문제있음\n"
     ]
    }
   ],
   "source": [
    "numbers = { 'a': 1, 'b': 2, 'c': 3 }\n",
    "\n",
    "print( numbers['a'] )\n",
    "try:\n",
    "    n = numbers['d'] # 오류 : 없는 키를 사용하면 오류\n",
    "    print(\"정상\")\n",
    "except:\n",
    "    print(\"문제있음\")"
   ]
  }
 ],
 "metadata": {
  "kernelspec": {
   "display_name": "Python 3",
   "language": "python",
   "name": "python3"
  },
  "language_info": {
   "codemirror_mode": {
    "name": "ipython",
    "version": 3
   },
   "file_extension": ".py",
   "mimetype": "text/x-python",
   "name": "python",
   "nbconvert_exporter": "python",
   "pygments_lexer": "ipython3",
   "version": "3.11.9"
  }
 },
 "nbformat": 4,
 "nbformat_minor": 5
}
